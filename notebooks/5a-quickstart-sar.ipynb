{
 "cells": [
  {
   "cell_type": "markdown",
   "id": "0f4b406c-447e-4b79-a636-2fddb0421dc6",
   "metadata": {},
   "source": [
    "# Processing SAR data to TileDB arrays\n",
    "\n",
    "Data is openly licensed from the Spacenet 6 challenge -https://medium.com/the-downlinq/spacenet-6-expanded-dataset-release-e1a7ddaf030\n",
    "\n",
    "We will start by copying over two sample SAR intensity GeoTIFFs."
   ]
  },
  {
   "cell_type": "code",
   "execution_count": 5,
   "id": "c95dcec1-5a34-4597-a9a1-3df644b50b64",
   "metadata": {},
   "outputs": [
    {
     "name": "stdout",
     "output_type": "stream",
     "text": [
      "download failed: s3://spacenet-dataset/AOIs/AOI_11_Rotterdam/SAR-MAG-POL/SN6_AOI_11_Rotterdam_SAR-MAG-POL_20190804111224_20190804111453.tif to tmp/SN6_AOI_11_Rotterdam_SAR-MAG-POL_20190804111224_20190804111453.tif Could not connect to the endpoint URL: \"https://spacenet-dataset.s3.amazonaws.com/AOIs/AOI_11_Rotterdam/SAR-MAG-POL/SN6_AOI_11_Rotterdam_SAR-MAG-POL_20190804111224_20190804111453.tif\"\n",
      "download failed: s3://spacenet-dataset/AOIs/AOI_11_Rotterdam/SAR-MAG-POL/SN6_AOI_11_Rotterdam_SAR-MAG-POL_20190804111851_20190804112030.tif to tmp/SN6_AOI_11_Rotterdam_SAR-MAG-POL_20190804111851_20190804112030.tif Could not connect to the endpoint URL: \"https://spacenet-dataset.s3.amazonaws.com/AOIs/AOI_11_Rotterdam/SAR-MAG-POL/SN6_AOI_11_Rotterdam_SAR-MAG-POL_20190804111851_20190804112030.tif\"\n"
     ]
    }
   ],
   "source": [
    "import os\n",
    "\n",
    "image_1 = \"SN6_AOI_11_Rotterdam_SAR-MAG-POL_20190804111224_20190804111453.tif\"\n",
    "image_2 = \"SN6_AOI_11_Rotterdam_SAR-MAG-POL_20190804111851_20190804112030.tif\"\n",
    "\n",
    "if not os.path.exists(f\"./tmp/{image_1}\"):\n",
    "    !aws s3 cp s3://spacenet-dataset/AOIs/AOI_11_Rotterdam/SAR-MAG-POL/$image_1 ./tmp/\n",
    "    !aws s3 cp s3://spacenet-dataset/AOIs/AOI_11_Rotterdam/SAR-MAG-POL/$image_2 ./tmp/"
   ]
  },
  {
   "cell_type": "code",
   "execution_count": null,
   "id": "0cc109f8-546d-495d-8f16-9a59d202dd24",
   "metadata": {},
   "outputs": [],
   "source": [
    "import json\n",
    "from matplotlib import pyplot\n",
    "import numpy as np\n",
    "import rasterio\n",
    "from rasterio.plot import show\n",
    "from rasterio.warp import transform_bounds\n",
    "from rasterio.windows import Window\n",
    "from rasterio.crs import CRS\n",
    "import shutil\n",
    "\n",
    "output_array = \"arrays/sar_output_array\"\n",
    "\n",
    "# clean up previous runs\n",
    "try:\n",
    "    shutil.rmtree(output_array)\n",
    "except:\n",
    "    pass"
   ]
  },
  {
   "cell_type": "code",
   "execution_count": null,
   "id": "4754d10a-c346-4c56-ab7c-76614b665d1f",
   "metadata": {},
   "outputs": [],
   "source": [
    "import json\n",
    "from matplotlib import pyplot\n",
    "import numpy as np\n",
    "import rasterio\n",
    "from rasterio.plot import show\n",
    "from rasterio.warp import transform_bounds\n",
    "from rasterio.windows import Window\n",
    "from rasterio.crs import CRS\n",
    "import shutil\n",
    "\n",
    "output_array = \"output_array\"\n",
    "\n",
    "# clean up previous runs\n",
    "try:\n",
    "    shutil.rmtree(output_array)\n",
    "except:\n",
    "    pass"
   ]
  },
  {
   "cell_type": "code",
   "execution_count": null,
   "id": "0bbd9124-1309-400a-be05-27c770abaf6f",
   "metadata": {},
   "outputs": [],
   "source": [
    "!rio info $image_1 | jq .\n",
    "!rio info $image_2 | jq ."
   ]
  },
  {
   "cell_type": "markdown",
   "id": "e822cd8a-f561-418b-9fbe-39275aa14f97",
   "metadata": {},
   "source": [
    "We will mosaic the input GeoTIFF images"
   ]
  },
  {
   "cell_type": "code",
   "execution_count": null,
   "id": "e8ae3ffa-9e8d-426f-8be5-0a82731a2e3d",
   "metadata": {},
   "outputs": [],
   "source": [
    "!gdalbuildvrt mosaic.vrt SN6*.tif\n",
    "!gdal_translate -OF TileDB -CO BLOCKXSIZE=1024 -CO BLOCKYSIZE=1024 -CO COMPRESSION=ZSTD -CO COMPRESSION_LEVEL=7 mosaic.vrt $output_array"
   ]
  },
  {
   "cell_type": "code",
   "execution_count": null,
   "id": "1f7d1f32-1a16-4a15-9e2e-ad904cd21417",
   "metadata": {},
   "outputs": [],
   "source": [
    "!rio info $output_array | jq ."
   ]
  },
  {
   "cell_type": "markdown",
   "id": "381c5d68-f823-42b9-9f8d-558afbfd554e",
   "metadata": {},
   "source": [
    "Finally we will slice an AOI from the TileDB array using Rasterio and display"
   ]
  },
  {
   "cell_type": "code",
   "execution_count": null,
   "id": "bbdc21cb-5e98-4135-b8bd-a9925403336b",
   "metadata": {},
   "outputs": [],
   "source": [
    "from rasterio.plot import reshape_as_raster, reshape_as_image, adjust_band\n",
    "\n",
    "with rasterio.Env():\n",
    "    with rasterio.open(output_array) as src:\n",
    "        # query dataset in lat/lon coordinates\n",
    "        bbox = [4.42, 51.885, 4.435, 51.89]\n",
    "        native_bounds = transform_bounds(CRS.from_epsg(4326), src.crs, *bbox)        \n",
    "        bounds_window = src.window(*native_bounds)\n",
    "        bounds_window = bounds_window.intersection(Window(0, 0, src.width, src.height))\n",
    "\n",
    "        # The georeferenced MAG-POL data has a base resolution of 0.25m and contains 4 channels of SAR magnitude (intensity)\n",
    "        # (1: HH , 2: HV, 3: VH, 4: VV) as well as 2 channels (5: alpha² & 6: beta²)\n",
    "        # (Red = HH Intensity, Green = VV Intensity, Blue = HV Intensity)\n",
    "        img = src.read((1, 4, 2), window=bounds_window)\n",
    "        fig, ax = pyplot.subplots(1, 1, figsize=(21,7))\n",
    "        ax.set_xlabel('X')\n",
    "        ax.set_ylabel('Y')\n",
    "        \n",
    "        arr = reshape_as_raster(img)\n",
    "        for b, band in enumerate(arr):\n",
    "            arr[b] = adjust_band(band)\n",
    "        arr = reshape_as_image(arr)        \n",
    "        \n",
    "        show(arr, ax=ax, title=\"Slicing SAR Intensity data from a TileDB array\")"
   ]
  }
 ],
 "metadata": {
  "kernelspec": {
   "display_name": "Python 3 (ipykernel)",
   "language": "python",
   "name": "python3"
  },
  "language_info": {
   "codemirror_mode": {
    "name": "ipython",
    "version": 3
   },
   "file_extension": ".py",
   "mimetype": "text/x-python",
   "name": "python",
   "nbconvert_exporter": "python",
   "pygments_lexer": "ipython3",
   "version": "3.9.7"
  }
 },
 "nbformat": 4,
 "nbformat_minor": 5
}
