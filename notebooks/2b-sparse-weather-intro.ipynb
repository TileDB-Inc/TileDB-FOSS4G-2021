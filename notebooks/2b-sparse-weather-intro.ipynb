{
 "cells": [
  {
   "cell_type": "markdown",
   "metadata": {},
   "source": [
    "# Intro to Weather Data in TileDB\n",
    "\n",
    "## About this Tutorial\n",
    "\n",
    "This tutorial shows how to store sparse \"gridded\" data in TileDB.\n",
    "\n",
    "### What it Shows\n",
    "\n",
    "1. Use sparse axis labels to handle querying sparse gridded data\n",
    "2. Converting between matrix form and coordinate form\n",
    "\n",
    "### Set-up Requirements\n",
    "\n",
    "This example requires the following Python libraries: tiledb, tiledb-cf, numpy, xarray, rasterio, cartopy, matplotlib, geopandas"
   ]
  },
  {
   "cell_type": "code",
   "execution_count": 1,
   "metadata": {},
   "outputs": [],
   "source": [
    "import tiledb\n",
    "import tiledb.cf\n",
    "\n",
    "import sparse\n",
    "import geopandas as gpd\n",
    "import rasterio.features\n",
    "import numpy as np\n",
    "import xarray as xr\n",
    "\n",
    "import cartopy.crs as ccrs\n",
    "import matplotlib.pyplot as plt\n",
    "\n",
    "example_uri = \"arrays/sparse_toy_weather_data\""
   ]
  },
  {
   "cell_type": "code",
   "execution_count": 2,
   "metadata": {},
   "outputs": [],
   "source": [
    "import shutil\n",
    "\n",
    "# clean up any previous runs\n",
    "try:\n",
    "    shutil.rmtree(example_uri)\n",
    "except:\n",
    "    pass"
   ]
  },
  {
   "cell_type": "markdown",
   "metadata": {},
   "source": [
    "## Create toy data\n",
    "\n",
    "Create toy data (random array) and store over latitude, longitude, and date."
   ]
  },
  {
   "cell_type": "code",
   "execution_count": 3,
   "metadata": {},
   "outputs": [
    {
     "data": {
      "text/html": [
       "<h4>DataspaceCreator</h4>\n",
       "<ul>\n",
       "<li>\n",
       "Shared Dimensions\n",
       "<table>\n",
       "<tr><td style=\"text-align: left;\"> &rarr; SharedDim(name=latitude.index, domain=(0, 180), dtype='uint32')</td>\n",
       "</tr>\n",
       "<tr><td style=\"text-align: left;\"> &rarr; SharedDim(name=latitude, domain=(-90.0, 90.0), dtype='float64')</td>\n",
       "</tr>\n",
       "<tr><td style=\"text-align: left;\"> &rarr; SharedDim(name=longitude.index, domain=(0, 359), dtype='uint32')</td>\n",
       "</tr>\n",
       "<tr><td style=\"text-align: left;\"> &rarr; SharedDim(name=longitude, domain=(-180.0, 180.0), dtype='float64')</td>\n",
       "</tr>\n",
       "<tr><td style=\"text-align: left;\"> &rarr; SharedDim(name=date, domain=(numpy.datetime64('2021-01-01'), numpy.datetime64('2021-12-31')), dtype='datetime64[D]')</td>\n",
       "</tr>\n",
       "</table>\n",
       "</li>\n",
       "<li>\n",
       "Array Creators\n",
       "<details>\n",
       "<summary>\n",
       "ArrayCreator <em>toy_data</em>(date, latitude.index, longitude.index)\n",
       "</summary>\n",
       "<ul>\n",
       "<li>\n",
       "Domain\n",
       "<table>\n",
       "<tr><td style=\"text-align: left;\"> &rarr; tiledb.Dim(name=date, domain=(numpy.datetime64('2021-01-01'), numpy.datetime64('2021-12-31')), dtype='datetime64[D]', tile=None)</td></tr>\n",
       "<tr><td style=\"text-align: left;\"> &rarr; tiledb.Dim(name=latitude.index, domain=(0, 180), dtype='uint32', tile=None)</td></tr>\n",
       "<tr><td style=\"text-align: left;\"> &rarr; tiledb.Dim(name=longitude.index, domain=(0, 359), dtype='uint32', tile=None)</td></tr>\n",
       "</table>\n",
       "</li>\n",
       "<li>\n",
       "Attributes\n",
       "<table>\n",
       "<tr><td style=\"text-align: left;\"> &rarr; tiledb.Attr(name=toy_data, dtype='float64', var=False, nullable=False, filters=FilterList(FilterList([ZstdFilter(level=7)])))</td></tr>\n",
       "</table>\n",
       "</li>\n",
       "<li>\n",
       "Array Properties\n",
       "<table>\n",
       "<tr><td style=\"text-align: left;\">cell_order=row-major</td></tr>\n",
       "<tr><td style=\"text-align: left;\">tile_order=row-major</td></tr>\n",
       "<tr><td style=\"text-align: left;\">capacity=100000</td></tr>\n",
       "<tr><td style=\"text-align: left;\">sparse=True</td></tr>\n",
       "<tr><td style=\"text-align: left;\">allows_duplicates=False</td></tr>\n",
       "<tr><td style=\"text-align: left;\">coords_filters=None</td></tr>\n",
       "</table>\n",
       "</li>\n",
       "</ul>\n",
       "\n",
       "</details>\n",
       "<details>\n",
       "<summary>\n",
       "ArrayCreator <em>latitude_axis_label</em>(latitude)\n",
       "</summary>\n",
       "<ul>\n",
       "<li>\n",
       "Domain\n",
       "<table>\n",
       "<tr><td style=\"text-align: left;\"> &rarr; tiledb.Dim(name=latitude, domain=(-90.0, 90.0), dtype='float64', tile=None)</td></tr>\n",
       "</table>\n",
       "</li>\n",
       "<li>\n",
       "Attributes\n",
       "<table>\n",
       "<tr><td style=\"text-align: left;\"> &rarr; tiledb.Attr(name=latitude.index, dtype='uint32', var=False, nullable=False, filters=FilterList(FilterList([PositiveDeltaFilter(window=1024),\n",
       "       ZstdFilter(level=-1)])))</td></tr>\n",
       "</table>\n",
       "</li>\n",
       "<li>\n",
       "Array Properties\n",
       "<table>\n",
       "<tr><td style=\"text-align: left;\">cell_order=row-major</td></tr>\n",
       "<tr><td style=\"text-align: left;\">tile_order=row-major</td></tr>\n",
       "<tr><td style=\"text-align: left;\">capacity=0</td></tr>\n",
       "<tr><td style=\"text-align: left;\">sparse=True</td></tr>\n",
       "<tr><td style=\"text-align: left;\">allows_duplicates=False</td></tr>\n",
       "<tr><td style=\"text-align: left;\">coords_filters=FilterList([ZstdFilter(level=7)])</td></tr>\n",
       "</table>\n",
       "</li>\n",
       "</ul>\n",
       "\n",
       "</details>\n",
       "<details>\n",
       "<summary>\n",
       "ArrayCreator <em>longitude_axis_label</em>(longitude)\n",
       "</summary>\n",
       "<ul>\n",
       "<li>\n",
       "Domain\n",
       "<table>\n",
       "<tr><td style=\"text-align: left;\"> &rarr; tiledb.Dim(name=longitude, domain=(-180.0, 180.0), dtype='float64', tile=None)</td></tr>\n",
       "</table>\n",
       "</li>\n",
       "<li>\n",
       "Attributes\n",
       "<table>\n",
       "<tr><td style=\"text-align: left;\"> &rarr; tiledb.Attr(name=longitude.index, dtype='uint32', var=False, nullable=False, filters=FilterList(FilterList([PositiveDeltaFilter(window=1024),\n",
       "       ZstdFilter(level=-1)])))</td></tr>\n",
       "</table>\n",
       "</li>\n",
       "<li>\n",
       "Array Properties\n",
       "<table>\n",
       "<tr><td style=\"text-align: left;\">cell_order=row-major</td></tr>\n",
       "<tr><td style=\"text-align: left;\">tile_order=row-major</td></tr>\n",
       "<tr><td style=\"text-align: left;\">capacity=0</td></tr>\n",
       "<tr><td style=\"text-align: left;\">sparse=True</td></tr>\n",
       "<tr><td style=\"text-align: left;\">allows_duplicates=False</td></tr>\n",
       "<tr><td style=\"text-align: left;\">coords_filters=FilterList([ZstdFilter(level=7)])</td></tr>\n",
       "</table>\n",
       "</li>\n",
       "</ul>\n",
       "\n",
       "</details>\n",
       "</li>\n",
       "</ul>\n"
      ],
      "text/plain": [
       "DataspaceCreator(\n",
       " Shared Dimensions:\n",
       "  'latitude.index':  SharedDim(name=latitude.index, domain=(0, 180), dtype='uint32'),\n",
       "  'latitude':  SharedDim(name=latitude, domain=(-90.0, 90.0), dtype='float64'),\n",
       "  'longitude.index':  SharedDim(name=longitude.index, domain=(0, 359), dtype='uint32'),\n",
       "  'longitude':  SharedDim(name=longitude, domain=(-180.0, 180.0), dtype='float64'),\n",
       "  'date':  SharedDim(name=date, domain=(numpy.datetime64('2021-01-01'), numpy.datetime64('2021-12-31')), dtype='datetime64[D]'),\n",
       "\n",
       " Array Creators:\n",
       "  'toy_data':  ArrayCreator(\n",
       "     domain=Domain(*[\n",
       "       DimCreator(SharedDim(name=date, domain=(numpy.datetime64('2021-01-01'), numpy.datetime64('2021-12-31')), dtype='datetime64[D]'), tile=None),\n",
       "       DimCreator(SharedDim(name=latitude.index, domain=(0, 180), dtype='uint32'), tile=None),\n",
       "       DimCreator(SharedDim(name=longitude.index, domain=(0, 359), dtype='uint32'), tile=None),\n",
       "     ]),\n",
       "     attrs=[\n",
       "       AttrCreator(name=toy_data, dtype='float64', var=False, nullable=False, filters=FilterList(FilterList([ZstdFilter(level=7)]))),\n",
       "     ],\n",
       "     cell_order='row-major',\n",
       "     tile_order='row-major',\n",
       "     capacity=100000,\n",
       "     sparse=True,\n",
       "     allows_duplicates=False,\n",
       "  )\n",
       "  'latitude_axis_label':  ArrayCreator(\n",
       "     domain=Domain(*[\n",
       "       DimCreator(SharedDim(name=latitude, domain=(-90.0, 90.0), dtype='float64'), tile=None),\n",
       "     ]),\n",
       "     attrs=[\n",
       "       AttrCreator(name=latitude.index, dtype='uint32', var=False, nullable=False, filters=FilterList(FilterList([PositiveDeltaFilter(window=1024),\n",
       "       ZstdFilter(level=-1)]))),\n",
       "     ],\n",
       "     cell_order='row-major',\n",
       "     tile_order='row-major',\n",
       "     capacity=0,\n",
       "     sparse=True,\n",
       "     allows_duplicates=False,\n",
       "     coords_filters=FilterList([ZstdFilter(level=7), ])\n",
       "  )\n",
       "  'longitude_axis_label':  ArrayCreator(\n",
       "     domain=Domain(*[\n",
       "       DimCreator(SharedDim(name=longitude, domain=(-180.0, 180.0), dtype='float64'), tile=None),\n",
       "     ]),\n",
       "     attrs=[\n",
       "       AttrCreator(name=longitude.index, dtype='uint32', var=False, nullable=False, filters=FilterList(FilterList([PositiveDeltaFilter(window=1024),\n",
       "       ZstdFilter(level=-1)]))),\n",
       "     ],\n",
       "     cell_order='row-major',\n",
       "     tile_order='row-major',\n",
       "     capacity=0,\n",
       "     sparse=True,\n",
       "     allows_duplicates=False,\n",
       "     coords_filters=FilterList([ZstdFilter(level=7), ])\n",
       "  )\n",
       ")"
      ]
     },
     "execution_count": 3,
     "metadata": {},
     "output_type": "execute_result"
    }
   ],
   "source": [
    "# Create toy data using tiledb.cf DataspaceCreator\n",
    "creator = tiledb.cf.DataspaceCreator()\n",
    "creator.add_shared_dim(dim_name=\"latitude.index\", domain=(0, 180), dtype=np.uint32)\n",
    "creator.add_shared_dim(dim_name=\"latitude\", domain=(-90.0, 90.0), dtype=np.float64)\n",
    "creator.add_shared_dim(dim_name=\"longitude.index\", domain=(0, 359), dtype=np.uint32)\n",
    "creator.add_shared_dim(dim_name=\"longitude\", domain=(-180.0, 179.0), dtype=np.float64)\n",
    "creator.add_shared_dim(\n",
    "    dim_name=\"date\",\n",
    "    domain=(np.datetime64(\"2021-01-01\", \"D\"), np.datetime64(\"2021-12-31\", \"D\")),\n",
    "    dtype=np.dtype(\"datetime64[D]\")\n",
    ")\n",
    "creator.add_array_creator(\n",
    "    array_name=\"toy_data\", dims=(\"date\", \"latitude.index\", \"longitude.index\"), sparse=True, capacity=100_000\n",
    ")\n",
    "creator.add_attr_creator(\n",
    "    attr_name=\"toy_data\",\n",
    "    array_name=\"toy_data\",\n",
    "    dtype=np.float64,\n",
    "    fill=np.nan,\n",
    "    filters=tiledb.FilterList([tiledb.ZstdFilter(7)]),\n",
    ")\n",
    "for data_name in (\"latitude\", \"longitude\"):\n",
    "    creator.add_array_creator(\n",
    "        array_name=f\"{data_name}_axis_label\",\n",
    "        dims=(data_name,),\n",
    "        coords_filters=tiledb.FilterList([tiledb.ZstdFilter(7)]),\n",
    "        sparse=True,\n",
    "    )\n",
    "    creator.add_attr_creator(\n",
    "        attr_name=f\"{data_name}.index\",\n",
    "        array_name=f\"{data_name}_axis_label\",\n",
    "        dtype=np.uint32,\n",
    "        filters=tiledb.FilterList([tiledb.PositiveDeltaFilter(), tiledb.ZstdFilter()]),\n",
    "    )\n",
    "creator"
   ]
  },
  {
   "cell_type": "code",
   "execution_count": 4,
   "metadata": {},
   "outputs": [],
   "source": [
    "creator.create_group(example_uri)"
   ]
  },
  {
   "cell_type": "code",
   "execution_count": 5,
   "metadata": {},
   "outputs": [],
   "source": [
    "# Write data for access labels\n",
    "with tiledb.cf.Group(example_uri, mode=\"w\") as group:  \n",
    "    with (\n",
    "        group.open_array(\"latitude_axis_label\") as lat_array,\n",
    "        group.open_array(\"longitude_axis_label\") as lon_array\n",
    "    ):\n",
    "        lat_array[np.arange(-90, 91, 1, dtype=np.float64)] = np.arange(181)\n",
    "        lon_array[np.arange(-180, 180, 1, dtype=np.float64)] = np.arange(360)"
   ]
  },
  {
   "cell_type": "code",
   "execution_count": 6,
   "metadata": {},
   "outputs": [],
   "source": [
    "# Use tiledb.cf.Group of tiledb.open_array to read slices of data from the latitude and longitude axis labels"
   ]
  },
  {
   "cell_type": "code",
   "execution_count": 7,
   "metadata": {},
   "outputs": [],
   "source": [
    "# Write a \"dense\" subarray in the bounding box around Argentina\n",
    "boundaries = gpd.read_file(\"../data/boundaries.geojson\")\n",
    "argentina = boundaries.loc[boundaries[\"name\"] == \"Argentina\"]\n",
    "geom = argentina.geometry\n",
    "bbox = rasterio.features.bounds(geom) # Bounding box is stored in order: [left, bottom, right, top]\n",
    "dx, dy = 1.0, 1.0 # optionally add buffer around region \n",
    "# Write to the toy data array\n",
    "with tiledb.cf.Group(example_uri, mode=\"r\") as group:\n",
    "    # Query lat/lon indices from the axis labels.\n",
    "    with (\n",
    "        group.open_array(\"latitude_axis_label\") as lat_array,\n",
    "        group.open_array(\"longitude_axis_label\") as lon_array,   \n",
    "    ):\n",
    "        lat_indices = lat_array[bbox[1] - dy : bbox[3] + dy][\"latitude.index\"]\n",
    "        lon_indices = lon_array[bbox[0] - dx : bbox[2] + dx][\"longitude.index\"]\n"
   ]
  },
  {
   "cell_type": "code",
   "execution_count": 8,
   "metadata": {},
   "outputs": [
    {
     "data": {
      "text/plain": [
       "array([287, 288, 289, 290, 291, 292, 293, 294, 295, 296, 297, 298, 299,\n",
       "       300, 301, 302, 303, 304, 305, 306, 307], dtype=uint32)"
      ]
     },
     "execution_count": 8,
     "metadata": {},
     "output_type": "execute_result"
    }
   ],
   "source": [
    "# Create random data in the bounding box for each day in Jan. 2021\n",
    "dates = np.arange(\n",
    "    np.datetime64(\"2021-01\", \"D\"), np.datetime64(\"2021-02\", \"D\"), np.timedelta64(1, \"D\")\n",
    ")\n",
    "data = np.random.rand(len(dates), len(lat_indices), len(lon_indices))\n",
    "lon_indices"
   ]
  },
  {
   "cell_type": "code",
   "execution_count": 9,
   "metadata": {},
   "outputs": [
    {
     "name": "stdout",
     "output_type": "stream",
     "text": [
      "Shape data: (22785,)\n",
      "Shape date coordinates: (22785,)\n",
      "Shape latitude coordinates: (22785,)\n",
      "Shape longitude coordinates: (22785,)\n"
     ]
    }
   ],
   "source": [
    "# Flatten data matrix and use meshgrid to construct coordinates for bounding box on a single day\n",
    "data = data.reshape(-1) # flatten to convert to coordinate form\n",
    "coords = tuple(\n",
    "    dim.reshape(-1) for dim in np.meshgrid(dates, lat_indices, lon_indices, indexing=\"ij\")\n",
    ")\n",
    "print(f\"Shape data: {data.shape}\")\n",
    "print(f\"Shape date coordinates: {coords[0].shape}\")\n",
    "print(f\"Shape latitude coordinates: {coords[1].shape}\")\n",
    "print(f\"Shape longitude coordinates: {coords[2].shape}\")"
   ]
  },
  {
   "cell_type": "code",
   "execution_count": 10,
   "metadata": {},
   "outputs": [],
   "source": [
    "# Write to toy data array\n",
    "with tiledb.open(f\"{example_uri}/toy_data\", mode=\"w\") as data_array:\n",
    "    data_array[coords] = data"
   ]
  },
  {
   "cell_type": "code",
   "execution_count": 11,
   "metadata": {},
   "outputs": [
    {
     "name": "stdout",
     "output_type": "stream",
     "text": [
      "((numpy.datetime64('2021-01-01'), numpy.datetime64('2021-01-31')), (125, 159), (287, 307))\n"
     ]
    }
   ],
   "source": [
    "with tiledb.open(f\"{example_uri}/toy_data\") as data_array:\n",
    "    print(data_array.nonempty_domain())\n",
    "    result = data_array[:, :, :]"
   ]
  },
  {
   "cell_type": "code",
   "execution_count": 12,
   "metadata": {},
   "outputs": [
    {
     "data": {
      "text/html": [
       "<table><tbody><tr><th style=\"text-align: left\">Format</th><td style=\"text-align: left\">coo</td></tr><tr><th style=\"text-align: left\">Data Type</th><td style=\"text-align: left\">float64</td></tr><tr><th style=\"text-align: left\">Shape</th><td style=\"text-align: left\">(31, 160, 308)</td></tr><tr><th style=\"text-align: left\">nnz</th><td style=\"text-align: left\">22785</td></tr><tr><th style=\"text-align: left\">Density</th><td style=\"text-align: left\">0.014914772727272728</td></tr><tr><th style=\"text-align: left\">Read-only</th><td style=\"text-align: left\">True</td></tr><tr><th style=\"text-align: left\">Size</th><td style=\"text-align: left\">712.0K</td></tr><tr><th style=\"text-align: left\">Storage ratio</th><td style=\"text-align: left\">0.1</td></tr></tbody></table>"
      ],
      "text/plain": [
       "<COO: shape=(31, 160, 308), dtype=float64, nnz=22785, fill_value=0.0>"
      ]
     },
     "execution_count": 12,
     "metadata": {},
     "output_type": "execute_result"
    }
   ],
   "source": [
    "# Convert to sparse COO\n",
    "# 1. Convert date results to date index\n",
    "dates_result = result[\"date\"]\n",
    "dates_index = (dates_result - dates_result[0]).astype(int)\n",
    "# 2. Construct array of coordinates\n",
    "result_coords = np.array([dates_index, result[\"latitude.index\"], result[\"longitude.index\"]])\n",
    "# 3. Create COO matrix\n",
    "sparse_results = sparse.COO(result_coords, result[\"toy_data\"])\n",
    "sparse_results"
   ]
  },
  {
   "cell_type": "code",
   "execution_count": null,
   "metadata": {},
   "outputs": [],
   "source": []
  }
 ],
 "metadata": {
  "interpreter": {
   "hash": "3d092781159bdd0e591e89a2cbff26f3d6fd6b063fc2684654f3ec68ef25a91a"
  },
  "kernelspec": {
   "display_name": "Python 3 (ipykernel)",
   "language": "python",
   "name": "python3"
  },
  "language_info": {
   "codemirror_mode": {
    "name": "ipython",
    "version": 3
   },
   "file_extension": ".py",
   "mimetype": "text/x-python",
   "name": "python",
   "nbconvert_exporter": "python",
   "pygments_lexer": "ipython3",
   "version": "3.9.7"
  }
 },
 "nbformat": 4,
 "nbformat_minor": 4
}
