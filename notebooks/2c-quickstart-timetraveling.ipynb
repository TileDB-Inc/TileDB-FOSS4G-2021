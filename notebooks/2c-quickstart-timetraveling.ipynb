{
 "cells": [
  {
   "cell_type": "markdown",
   "id": "a2df7e99-b2a3-48a8-94b3-4933dbf1755c",
   "metadata": {},
   "source": [
    "# Time traveling\n",
    "\n",
    "We will import the required modules"
   ]
  },
  {
   "cell_type": "code",
   "execution_count": 12,
   "id": "993ced0a-6d63-4e4b-a9ff-5d932dea928d",
   "metadata": {},
   "outputs": [],
   "source": [
    "import numpy as np\n",
    "import matplotlib.pyplot as plt\n",
    "import shutil\n",
    "import tiledb"
   ]
  },
  {
   "cell_type": "code",
   "execution_count": 13,
   "id": "c9ee1a5f-beea-4e17-9031-d05e0224d2d0",
   "metadata": {},
   "outputs": [],
   "source": [
    "# clean up previous runs\n",
    "array_uri = \"arrays/timeseries\"\n",
    "\n",
    "try:\n",
    "    shutil.rmtree(array_uri)\n",
    "except:\n",
    "    pass"
   ]
  },
  {
   "cell_type": "markdown",
   "id": "5c02818d-9f34-4555-9e4e-ee6f41dbb442",
   "metadata": {},
   "source": [
    "We will create the array schema and populate the data using the `timestamp` parameter"
   ]
  },
  {
   "cell_type": "code",
   "execution_count": 14,
   "id": "26a21ad9-459f-4625-9336-c974785f8f82",
   "metadata": {},
   "outputs": [],
   "source": [
    "\n",
    "dom = tiledb.Domain(\n",
    "    tiledb.Dim(name=\"x\", domain=(0, 12), tile=5, dtype=np.int32),\n",
    "    tiledb.Dim(name=\"y\", domain=(0, 12), tile=5, dtype=np.int32))\n",
    "att = tiledb.Attr(name=\"val\", dtype=np.ubyte)\n",
    "\n",
    "schema = tiledb.ArraySchema(domain=dom, attrs=(att,))\n",
    "\n",
    "tiledb.DenseArray.create(array_uri, schema)\n",
    "\n",
    "for fragment_idx in range(4):\n",
    "    ts = fragment_idx + 1\n",
    "    with tiledb.open(array_uri, mode=\"w\", timestamp=ts) as arr:\n",
    "        x_start = fragment_idx * 3\n",
    "        y_start = fragment_idx * 3\n",
    "        x_end = x_start + 3\n",
    "        y_end = y_start + 3\n",
    "        arr[x_start:x_end, y_start:y_end] = 1"
   ]
  },
  {
   "cell_type": "markdown",
   "id": "ced3416b-2371-4957-a159-611938b8cb10",
   "metadata": {},
   "source": [
    "Lets visualize this data by opening the arrays at different timestamps, starting with the last timestamp, we will get all the data"
   ]
  },
  {
   "cell_type": "code",
   "execution_count": 17,
   "id": "0b903988-036d-40e8-a766-9a74c4f2d689",
   "metadata": {},
   "outputs": [
    {
     "data": {
      "text/plain": [
       "<matplotlib.image.AxesImage at 0x7fecf4266c10>"
      ]
     },
     "execution_count": 17,
     "metadata": {},
     "output_type": "execute_result"
    },
    {
     "data": {
      "image/png": "[encoded data removed]",
      "text/plain": [
       "<Figure size 432x288 with 1 Axes>"
      ]
     },
     "metadata": {
      "needs_background": "light"
     },
     "output_type": "display_data"
    }
   ],
   "source": [
    "with tiledb.open(array_uri) as arr:\n",
    "    data = arr[:, :]\n",
    "    \n",
    "plt.imshow(data[\"val\"], cmap=\"Greys\")"
   ]
  },
  {
   "cell_type": "markdown",
   "id": "586bb210-52b6-4e6f-b472-7c29676804a9",
   "metadata": {},
   "source": [
    "Or we query for the data at the actual timestamp"
   ]
  },
  {
   "cell_type": "code",
   "execution_count": 20,
   "id": "51b23046-802a-4f9e-99fa-1e8536b2f7f4",
   "metadata": {},
   "outputs": [
    {
     "data": {
      "text/plain": [
       "<matplotlib.image.AxesImage at 0x7fecf4148460>"
      ]
     },
     "execution_count": 20,
     "metadata": {},
     "output_type": "execute_result"
    },
    {
     "data": {
      "image/png": "[encoded data removed]",
      "text/plain": [
       "<Figure size 432x288 with 1 Axes>"
      ]
     },
     "metadata": {
      "needs_background": "light"
     },
     "output_type": "display_data"
    }
   ],
   "source": [
    "with tiledb.open(array_uri, timestamp=(4,4)) as arr:\n",
    "    data = arr[:, :]\n",
    "    \n",
    "plt.imshow(data[\"val\"], cmap=\"Greys\")"
   ]
  },
  {
   "cell_type": "markdown",
   "id": "11a77312-658f-4ccb-8d8e-a70c1a7f92ba",
   "metadata": {},
   "source": [
    "Or any interval thereof"
   ]
  },
  {
   "cell_type": "code",
   "execution_count": 21,
   "id": "189a7a31-83fc-492a-b9d0-7504bcfdb685",
   "metadata": {},
   "outputs": [
    {
     "data": {
      "text/plain": [
       "<matplotlib.image.AxesImage at 0x7fecf40b52b0>"
      ]
     },
     "execution_count": 21,
     "metadata": {},
     "output_type": "execute_result"
    },
    {
     "data": {
      "image/png": "[encoded data removed]",
      "text/plain": [
       "<Figure size 432x288 with 1 Axes>"
      ]
     },
     "metadata": {
      "needs_background": "light"
     },
     "output_type": "display_data"
    }
   ],
   "source": [
    "with tiledb.open(array_uri, timestamp=2) as arr:\n",
    "    data = arr[:, :]\n",
    "    \n",
    "plt.imshow(data[\"val\"], cmap=\"Greys\")"
   ]
  },
  {
   "cell_type": "code",
   "execution_count": null,
   "id": "5a39fc74-05ae-430e-b226-4e6cbbde7785",
   "metadata": {},
   "outputs": [],
   "source": []
  }
 ],
 "metadata": {
  "kernelspec": {
   "display_name": "Python 3 (ipykernel)",
   "language": "python",
   "name": "python3"
  },
  "language_info": {
   "codemirror_mode": {
    "name": "ipython",
    "version": 3
   },
   "file_extension": ".py",
   "mimetype": "text/x-python",
   "name": "python",
   "nbconvert_exporter": "python",
   "pygments_lexer": "ipython3",
   "version": "3.9.7"
  }
 },
 "nbformat": 4,
 "nbformat_minor": 5
}
