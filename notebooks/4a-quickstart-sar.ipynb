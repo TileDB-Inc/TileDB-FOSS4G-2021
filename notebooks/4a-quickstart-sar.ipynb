{
 "cells": [
  {
   "cell_type": "markdown",
   "id": "0f4b406c-447e-4b79-a636-2fddb0421dc6",
   "metadata": {
    "slideshow": {
     "slide_type": "-"
    }
   },
   "source": [
    "# Processing SAR (Synthetic Aperture Radar) data to TileDB arrays:\n",
    "### using TileDB in combination with GDAL and Rasterio"
   ]
  },
  {
   "cell_type": "markdown",
   "id": "6e50c4e6",
   "metadata": {},
   "source": [
    "Synthetic Aperture Radar - or SAR - is a type of remote sensing (satellite earth imaging) that works by measuring energy reflected back from a surface. It is especially good at detecting complex structures on that surface. \n",
    "\n",
    "Let's say you have a complicated set of skyscrapers with different heights and shapes in a city center, SAR could be a good way to capture a lot of that detail.\n",
    "\n",
    "In this notebook, we will:\n",
    "  - Download SAR images in Goereferenced TIFF (GeoTIFF) format (this format works well with GDAL and Rasterio).\n",
    "  - Use the TileDB Writer for GDAL to write them to a TileDB array for storage/access. [(GDAL TileDB Driver)](https://github.com/OSGeo/gdal/blob/master/gdal/frmts/tiledb/tiledbdataset.cpp)\n",
    "  - Use the TileDB Reader for Rasterio to open, read, and transform that TileDB array in a way that we can then easily visualize as an image.\n",
    "\n",
    "Note: the data used here is openly licensed from the Spacenet 6 challenge."
   ]
  },
  {
   "cell_type": "markdown",
   "id": "45c6bfac",
   "metadata": {},
   "source": [
    "Let's prepare some of the geospatial, data, and visualization tools we'll be using.\n",
    "\n",
    "GDAL and Rasterio should both already be in the active environment you've set up earlier, so we just need to bring in the parts we'll need for the Python code."
   ]
  },
  {
   "cell_type": "code",
   "execution_count": null,
   "id": "977ceb02",
   "metadata": {},
   "outputs": [],
   "source": [
    "import os\n",
    "import shutil\n",
    "\n",
    "import json\n",
    "from matplotlib import pyplot\n",
    "import numpy as np\n",
    "import rasterio\n",
    "from rasterio.plot import (\n",
    "    show,\n",
    "    reshape_as_raster,\n",
    "    reshape_as_image,\n",
    "    adjust_band\n",
    ")\n",
    "from rasterio.warp import transform_bounds\n",
    "from rasterio.windows import Window\n",
    "from rasterio.crs import CRS"
   ]
  },
  {
   "cell_type": "markdown",
   "id": "50ce1066",
   "metadata": {},
   "source": [
    "Now, let's download the two SAR GeoTIFF images we'll be using from the Spacenet s3 storage.\n",
    "\n",
    "These are over the port of Rotterdam in Amsterdam. \n",
    "\n",
    "About the images:\n",
    "\n",
    "Each image is at a resolution of 0.25m and has 6 bands: \n",
    "  - 4 measuring SAR Intensity:\n",
    "    - 1: HH , 2: HV, 3: VH, 4: VV\n",
    "\n",
    "  - 2 related to backscatter and derived from Pauli decomposition (beyond this exercise scope - tl;dr - they're good for distinguishing different types of objects):\n",
    "    - 5: alpha² & 6: beta²\n",
    "      - Note: there's also gamma² = 2 * HV\n",
    "\n",
    "In the following, we'll be using:\n",
    "  - Band 1 (HH Intensity): output to Red\n",
    "  - Band 4 (VV Intensity): output to Green\n",
    "  - Band 2 (HV Intensity): output to Blue\n",
    " \n",
    "For more on SAR data, see [NASA Earthdata](https://earthdata.nasa.gov/learn/backgrounders/what-is-sar)  \n",
    "For more on Spacenet's SAR image bands, see [Spacenet Medium Article](https://medium.com/the-downlinq/spacenet-6-expanded-dataset-release-e1a7ddaf030)"
   ]
  },
  {
   "cell_type": "code",
   "execution_count": null,
   "id": "9fb883c1",
   "metadata": {},
   "outputs": [],
   "source": [
    "image_1 = \"SN6_AOI_11_Rotterdam_SAR-MAG-POL_20190804111224_20190804111453.tif\"\n",
    "image_2 = \"SN6_AOI_11_Rotterdam_SAR-MAG-POL_20190804113009_20190804113242.tif\"\n",
    "\n",
    "if not os.path.exists(\"tmp\"):\n",
    "    os.mkdir(\"tmp\")\n",
    "\n",
    "for image in (image_1, image_2):\n",
    "    if not os.path.exists(f\"./tmp/{image}\"):\n",
    "        !aws s3 cp s3://spacenet-dataset/AOIs/AOI_11_Rotterdam/SAR-MAG-POL/$image ./tmp/\n",
    "\n",
    "# rename the image data files\n",
    "image_1 = f\"./tmp/{image_1}\"\n",
    "image_2 = f\"./tmp/{image_2}\""
   ]
  },
  {
   "cell_type": "markdown",
   "id": "0b449253",
   "metadata": {},
   "source": [
    "You should see an output counter with the progress of the two image downloads. We need both to complete before moving on.\n",
    "\n",
    "These might take awhile, so if they aren't done and you still want to code along, you can use the corresponding smaller images stored in a local folder. The results will be similar but with a poorer resolution. Just run the cell immediately below this one."
   ]
  },
  {
   "cell_type": "code",
   "execution_count": null,
   "id": "7b96ff1f",
   "metadata": {},
   "outputs": [],
   "source": [
    "# Note: DO NOT RUN IF YOU ALREADY HAVE THE LARGER IMAGES DOWNLOADED\n",
    "\n",
    "image_1 = \"../data/SAR_images/image_1.tif\"\n",
    "image_2 = \"../data/SAR_images/image_2.tif\""
   ]
  },
  {
   "cell_type": "markdown",
   "id": "947523f4-f93b-4869-9a0b-87c584ac0c54",
   "metadata": {},
   "source": [
    "Let's use rasterio to get some more details about these two georeferenced images. "
   ]
  },
  {
   "cell_type": "code",
   "execution_count": null,
   "id": "0b7201ae",
   "metadata": {},
   "outputs": [],
   "source": [
    "!rio info $image_1 | jq .\n",
    "!rio info $image_2 | jq ."
   ]
  },
  {
   "cell_type": "markdown",
   "id": "e0fd03b6",
   "metadata": {},
   "source": [
    "We can also parse the info and extract the image bounds. This will help us when we want to look at different parts of the images.  \n",
    "\n",
    "Note: bounds are entered in this order: \n",
    "\n",
    "Left, Bottom, Right, Top"
   ]
  },
  {
   "cell_type": "code",
   "execution_count": null,
   "id": "0bbd9124-1309-400a-be05-27c770abaf6f",
   "metadata": {},
   "outputs": [],
   "source": [
    "image_1_info = !rio info $image_1\n",
    "image_2_info = !rio info $image_2\n",
    "\n",
    "image_1_info, image_2_info = json.loads(image_1_info[0]), json.loads(image_2_info[0])\n",
    "\n",
    "image_1_bds = image_1_info[\"bounds\"]\n",
    "image_2_bds = image_2_info[\"bounds\"]\n",
    "\n",
    "print(f\"image_1_bounds: {image_1_bds}\\nimage_2_bounds: {image_2_bds}\")"
   ]
  },
  {
   "cell_type": "markdown",
   "id": "2b33fe29",
   "metadata": {},
   "source": [
    "For ease-of-use, we'll switch those over to latitude/longitude units."
   ]
  },
  {
   "cell_type": "code",
   "execution_count": null,
   "id": "46ca5f94",
   "metadata": {},
   "outputs": [],
   "source": [
    "image_1_bounds = transform_bounds(image_1_info[\"crs\"], CRS.from_epsg(4326), *image_1_bds)\n",
    "\n",
    "image_2_bounds = transform_bounds(image_2_info[\"crs\"], CRS.from_epsg(4326), *image_2_bds)\n",
    "\n",
    "print(f\"image_1_bounds lat/lon: {image_1_bounds}\\nimage_2_bounds lat/lon: {image_2_bounds}\")"
   ]
  },
  {
   "cell_type": "markdown",
   "id": "e822cd8a-f561-418b-9fbe-39275aa14f97",
   "metadata": {},
   "source": [
    "Now let's take both of those images, mosaic them with GDAL's buildvrt, and then write and store that mosaic image as a TileDB array using the TileDB writer plugin for GDAL."
   ]
  },
  {
   "cell_type": "code",
   "execution_count": null,
   "id": "e8ae3ffa-9e8d-426f-8be5-0a82731a2e3d",
   "metadata": {},
   "outputs": [],
   "source": [
    "output_array = \"arrays/sar_output_array\"\n",
    "\n",
    "# clean up previous runs\n",
    "try:\n",
    "    shutil.rmtree(output_array)\n",
    "except:\n",
    "    pass\n",
    "\n",
    "!gdalbuildvrt mosaic.vrt $image_1 $image_2\n",
    "!gdal_translate -OF TileDB -CO BLOCKXSIZE=1024 -CO BLOCKYSIZE=1024 -CO COMPRESSION=ZSTD -CO COMPRESSION_LEVEL=7 mosaic.vrt $output_array"
   ]
  },
  {
   "cell_type": "markdown",
   "id": "83e2e951-d402-4ac3-b802-dbb8d8ab2d77",
   "metadata": {},
   "source": [
    "Using `rasterio`'s cli function `rio info` we can look at the info of that output array. (Note how `rio` is able to process georeferenced files in TileDB format.)"
   ]
  },
  {
   "cell_type": "code",
   "execution_count": null,
   "id": "1f7d1f32-1a16-4a15-9e2e-ad904cd21417",
   "metadata": {},
   "outputs": [],
   "source": [
    "!rio info $output_array | jq ."
   ]
  },
  {
   "cell_type": "markdown",
   "id": "89df9ce0",
   "metadata": {},
   "source": [
    "Once again, we'll parse that info to get the mosaic's bounds. And, we'll then transform it to latitude/longitude."
   ]
  },
  {
   "cell_type": "code",
   "execution_count": null,
   "id": "8ea0170a",
   "metadata": {},
   "outputs": [],
   "source": [
    "output_info = !rio info $output_array\n",
    "output_info = json.loads(output_info[0])\n",
    "output_bds = output_info[\"bounds\"]\n",
    "print(f\"output_bounds: {output_bds}\\n\")\n",
    "output_bounds = transform_bounds(output_info[\"crs\"], CRS.from_epsg(4326), *output_bds)\n",
    "print(f\"output_bounds lat/lon: {output_bounds}\")"
   ]
  },
  {
   "cell_type": "markdown",
   "id": "381c5d68-f823-42b9-9f8d-558afbfd554e",
   "metadata": {},
   "source": [
    "For the final step, we'll open this TileDB array back up into a georeferenced image and take a look at it.\n",
    "\n",
    "Using the standard `rasterio.open`, the TileDB Reader plugin is called and integrates the output easily with the other raster formats used with rasterio.\n",
    "\n",
    "Note: TileDB storage is optimized for 'windowed' reading, so you can query just what you need, without downloading any unneccessary data. You can see this below in the bounding box `bbox` we used which integrates easily with `rasterio.Window` to get only a part of the image."
   ]
  },
  {
   "cell_type": "markdown",
   "id": "828f21df",
   "metadata": {},
   "source": [
    "We've set up some code that opens and shows a window within the mosaic output array.\n",
    "\n",
    "We just need to choose what area within the output bounds we want to look at.\n",
    "\n",
    "Here are the mosaic image bounds again:"
   ]
  },
  {
   "cell_type": "code",
   "execution_count": null,
   "id": "547469d0",
   "metadata": {},
   "outputs": [],
   "source": [
    "output_bounds"
   ]
  },
  {
   "cell_type": "markdown",
   "id": "d5be2867",
   "metadata": {},
   "source": [
    "And we'll pick this area, for illustration purposes:"
   ]
  },
  {
   "cell_type": "code",
   "execution_count": null,
   "id": "58e33ef1",
   "metadata": {},
   "outputs": [],
   "source": [
    "lat_lon_bbox = [4.34, 51.885, 4.37, 51.897]"
   ]
  },
  {
   "cell_type": "markdown",
   "id": "f67f28d4",
   "metadata": {},
   "source": [
    "In the code below, we:\n",
    "  - Set up a window in the native crs units\n",
    "  - Read the Red, Green, Blue bands in this window\n",
    "  - Normalize the values to (0 - 1.0) for pixel coloring\n",
    "  - Use `matplotlib.pyplot` and rasterio's `show` to display the resulting image"
   ]
  },
  {
   "cell_type": "code",
   "execution_count": null,
   "id": "bbdc21cb-5e98-4135-b8bd-a9925403336b",
   "metadata": {},
   "outputs": [],
   "source": [
    "with rasterio.Env():\n",
    "    with rasterio.open(output_array) as src:\n",
    "        # query dataset in lat/lon coordinates\n",
    "        native_bounds = transform_bounds(CRS.from_epsg(4326), src.crs, *lat_lon_bbox)        \n",
    "        bounds_window = src.window(*native_bounds)\n",
    "        bounds_window = bounds_window.intersection(Window(0, 0, src.width, src.height))\n",
    "\n",
    "        img = src.read((1, 4, 2), window=bounds_window)\n",
    "        print(f\"window shape: {img.shape}\\n\")\n",
    "\n",
    "        arr = reshape_as_raster(img)\n",
    "        for b, band in enumerate(arr):\n",
    "            arr[b] = adjust_band(band)\n",
    "        arr = reshape_as_image(arr)\n",
    "\n",
    "        fig, ax = pyplot.subplots(1, 1, figsize=(20, 10))\n",
    "        ax.set_xlabel('X')\n",
    "        ax.set_ylabel('Y')\n",
    "\n",
    "        show(arr, ax=ax, title=\"Slicing SAR Intensity data from a TileDB array\")"
   ]
  },
  {
   "cell_type": "markdown",
   "id": "315bc699",
   "metadata": {},
   "source": [
    "Note the uneven edges in the output image in areas where the mosaic images have been fit together."
   ]
  },
  {
   "cell_type": "markdown",
   "id": "bd62a8de",
   "metadata": {},
   "source": [
    "You can play around with the lat/lon window and set the global `lat_lon_bbox` variable to whatever you want, as long as there's overlap with the output_bounds.\n",
    "\n",
    "Try entering it below in the order [Left, Bottom, Right, Top] and then reruning the cell above.\n",
    "\n",
    "(Note: if you're running the larger images and using a big window, this can take some time.)"
   ]
  },
  {
   "cell_type": "code",
   "execution_count": null,
   "id": "2ddb49b3",
   "metadata": {},
   "outputs": [],
   "source": [
    "lat_lon_bbox = \"set your own lat/lon bbox\""
   ]
  },
  {
   "cell_type": "markdown",
   "id": "adac6bae",
   "metadata": {},
   "source": [
    "In the code above, we extracted bands 1 (HH), 4 (VV), and 2 (HV) for Red, Green, and Blue.\n",
    "\n",
    "We can also use other combinations to extract more detail from these images.\n",
    "\n",
    "The backscatter bands, including 5 (alpha²) and 6 (beta²), are good for distiguishing different types of objects.\n",
    "\n",
    "Try setting up an image using these bands to see the kind of detail you get.\n",
    "You can set it up as in the following:\n",
    "\n",
    "beta²: Red\n",
    "\n",
    "gamma²: Green\n",
    "\n",
    "alpha²: Blue\n",
    "\n",
    "(see [Spacenet Medium Article](https://medium.com/the-downlinq/spacenet-6-expanded-dataset-release-e1a7ddaf030) from above)\n",
    "\n",
    "The following cells already have the extrapolation of the gamma² band set up, so you just need to add the other two."
   ]
  },
  {
   "cell_type": "markdown",
   "id": "a5bf9702",
   "metadata": {},
   "source": [
    "Reset the lat_lon_bbox as before, then run the cells after that as well to get the gamma band."
   ]
  },
  {
   "cell_type": "code",
   "execution_count": null,
   "id": "e1d44f72",
   "metadata": {},
   "outputs": [],
   "source": [
    "lat_lon_bbox = [4.34, 51.885, 4.37, 51.897]"
   ]
  },
  {
   "cell_type": "code",
   "execution_count": null,
   "id": "420648a1",
   "metadata": {},
   "outputs": [],
   "source": [
    "def get_gamma_sq(lat_lon_bbox):\n",
    "    with rasterio.Env():\n",
    "        with rasterio.open(output_array) as src:\n",
    "            # query dataset in lat/lon coordinates\n",
    "            native_bounds = transform_bounds(CRS.from_epsg(4326), src.crs, *lat_lon_bbox)        \n",
    "            bounds_window = src.window(*native_bounds)\n",
    "            bounds_window = bounds_window.intersection(Window(0, 0, src.width, src.height))\n",
    "\n",
    "            img = src.read((2,), window=bounds_window)\n",
    "            for b, band in enumerate(img):\n",
    "                img[b] = band * 2\n",
    "            return img"
   ]
  },
  {
   "cell_type": "code",
   "execution_count": null,
   "id": "18f6e6f2",
   "metadata": {},
   "outputs": [],
   "source": [
    "gamma2 = get_gamma_sq(lat_lon_bbox)"
   ]
  },
  {
   "cell_type": "markdown",
   "id": "f2d8ad66",
   "metadata": {},
   "source": [
    "Finally, set up the `src.read()` method to set up the image with the correct bands."
   ]
  },
  {
   "cell_type": "code",
   "execution_count": null,
   "id": "f970991e",
   "metadata": {},
   "outputs": [],
   "source": [
    "with rasterio.Env():\n",
    "    with rasterio.open(output_array) as src:\n",
    "        # query dataset in lat/lon coordinates\n",
    "        native_bounds = transform_bounds(CRS.from_epsg(4326), src.crs, *lat_lon_bbox)        \n",
    "        bounds_window = src.window(*native_bounds)\n",
    "        bounds_window = bounds_window.intersection(Window(0, 0, src.width, src.height))\n",
    "\n",
    "        img = \"...write read method here\"\n",
    "\n",
    "        img = np.concatenate((img[:1], gamma2, img[1:]), axis=0)\n",
    "        arr = reshape_as_raster(img)\n",
    "        for b, band in enumerate(arr):\n",
    "            arr[b] = adjust_band(band)\n",
    "        arr = reshape_as_image(arr)\n",
    "        print(f\"window shape: {arr.shape}\\n\")\n",
    "\n",
    "        fig, ax = pyplot.subplots(1, 1, figsize=(20, 10))\n",
    "        ax.set_xlabel('X')\n",
    "        ax.set_ylabel('Y')\n",
    "\n",
    "        show(arr, ax=ax, title=\"Slicing SAR Intensity data from a TileDB array\")"
   ]
  }
 ],
 "metadata": {
  "language_info": {
   "name": "python"
  }
 },
 "nbformat": 4,
 "nbformat_minor": 5
}
