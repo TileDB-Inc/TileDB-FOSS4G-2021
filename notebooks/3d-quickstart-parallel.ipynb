{
 "cells": [
  {
   "cell_type": "markdown",
   "id": "e78e6b07-f4ff-4d5d-b4e5-fbec605ff6be",
   "metadata": {},
   "source": [
    "# Parallel ingestion\n",
    "\n",
    "In this notebook we will take several LAS files and ingest them in parallel using the TileDB driver in PDAL\n",
    "\n",
    "You will need the aws cli for this,a please take the time to do install this.\n",
    "\n",
    "We will first copy a subset of the available data"
   ]
  },
  {
   "cell_type": "code",
   "execution_count": 78,
   "id": "4483227d-d094-40dd-be2c-d81fb9c24c5b",
   "metadata": {},
   "outputs": [
    {
     "name": "stdout",
     "output_type": "stream",
     "text": [
      "download: s3://pc-bulk/NZ20_AbelTas/CL2_BN24_2020_1000_4523.lax to tmp/CL2_BN24_2020_1000_4523.lax\n",
      "download: s3://pc-bulk/NZ20_AbelTas/CL2_BN24_2020_1000_4525.lax to tmp/CL2_BN24_2020_1000_4525.lax\n",
      "download: s3://pc-bulk/NZ20_AbelTas/CL2_BN24_2020_1000_4524.lax to tmp/CL2_BN24_2020_1000_4524.lax\n",
      "download: s3://pc-bulk/NZ20_AbelTas/CL2_BN24_2020_1000_4526.lax to tmp/CL2_BN24_2020_1000_4526.lax\n",
      "download: s3://pc-bulk/NZ20_AbelTas/CL2_BN24_2020_1000_4527.lax to tmp/CL2_BN24_2020_1000_4527.lax\n",
      "download: s3://pc-bulk/NZ20_AbelTas/CL2_BN24_2020_1000_4528.lax to tmp/CL2_BN24_2020_1000_4528.lax\n",
      "download: s3://pc-bulk/NZ20_AbelTas/CL2_BN24_2020_1000_4524.laz to tmp/CL2_BN24_2020_1000_4524.laz\n",
      "download: s3://pc-bulk/NZ20_AbelTas/CL2_BN24_2020_1000_4525.laz to tmp/CL2_BN24_2020_1000_4525.laz\n",
      "download: s3://pc-bulk/NZ20_AbelTas/CL2_BN24_2020_1000_4526.laz to tmp/CL2_BN24_2020_1000_4526.laz\n",
      "download: s3://pc-bulk/NZ20_AbelTas/CL2_BN24_2020_1000_4523.laz to tmp/CL2_BN24_2020_1000_4523.laz\n",
      "download: s3://pc-bulk/NZ20_AbelTas/CL2_BN24_2020_1000_4527.laz to tmp/CL2_BN24_2020_1000_4527.laz\n",
      "download: s3://pc-bulk/NZ20_AbelTas/CL2_BN24_2020_1000_4528.laz to tmp/CL2_BN24_2020_1000_4528.laz\n"
     ]
    }
   ],
   "source": [
    "import glob\n",
    "import multiprocessing as mp\n",
    "import numpy as np\n",
    "import os\n",
    "import shutil\n",
    "import tiledb\n",
    "\n",
    "try:\n",
    "    shutil.rmtree(\"tmp\")\n",
    "except:\n",
    "    pass\n",
    "\n",
    "os.mkdir(\"tmp\")\n",
    "\n",
    "!aws s3 sync s3://pc-bulk/NZ20_AbelTas/ ./tmp/ --exclude \"*\" --include \"CL2_BN24_2020_1000_45*\" --endpoint-url https://opentopography.s3.sdsc.edu --no-sign-request"
   ]
  },
  {
   "cell_type": "markdown",
   "id": "deb46f95-0ef1-4198-b861-e23d09500255",
   "metadata": {},
   "source": [
    "List all the available data to check it is there"
   ]
  },
  {
   "cell_type": "code",
   "execution_count": 79,
   "id": "dfcb0d47-e2d7-4318-bae3-84bacf0e6f6a",
   "metadata": {},
   "outputs": [
    {
     "name": "stdout",
     "output_type": "stream",
     "text": [
      "ls: cannot access './data': No such file or directory\n"
     ]
    }
   ],
   "source": [
    "!ls ./data"
   ]
  },
  {
   "cell_type": "code",
   "execution_count": 80,
   "id": "ebb8c43a-1d6c-45e3-971e-659bd9b31d43",
   "metadata": {},
   "outputs": [
    {
     "data": {
      "text/plain": [
       "16"
      ]
     },
     "execution_count": 80,
     "metadata": {},
     "output_type": "execute_result"
    }
   ],
   "source": [
    "# how many cpu do we have\n",
    "mp.cpu_count()"
   ]
  },
  {
   "cell_type": "code",
   "execution_count": 94,
   "id": "f902f384-3e6a-4706-9ac5-f661d91d4cab",
   "metadata": {},
   "outputs": [
    {
     "data": {
      "text/plain": [
       "['tmp/CL2_BN24_2020_1000_4527.laz',\n",
       " 'tmp/CL2_BN24_2020_1000_4525.laz',\n",
       " 'tmp/CL2_BN24_2020_1000_4523.laz',\n",
       " 'tmp/CL2_BN24_2020_1000_4528.laz',\n",
       " 'tmp/CL2_BN24_2020_1000_4526.laz',\n",
       " 'tmp/CL2_BN24_2020_1000_4524.laz']"
      ]
     },
     "execution_count": 94,
     "metadata": {},
     "output_type": "execute_result"
    }
   ],
   "source": [
    "inputs = glob.glob(\"tmp/CL2_BN24*.laz\")\n",
    "inputs"
   ]
  },
  {
   "cell_type": "markdown",
   "id": "38fdfe1b-e8c0-4907-b92c-918e8978bbbf",
   "metadata": {},
   "source": [
    "Merge serially using PDAL"
   ]
  },
  {
   "cell_type": "code",
   "execution_count": 82,
   "id": "b51807de-7176-4634-8164-f4a1c64592c9",
   "metadata": {},
   "outputs": [
    {
     "name": "stdout",
     "output_type": "stream",
     "text": [
      "CPU times: user 389 ms, sys: 212 ms, total: 601 ms\n",
      "Wall time: 28.2 s\n"
     ]
    }
   ],
   "source": [
    "%%time\n",
    "!pdal merge tmp/*.laz arrays/soutput_array.laz"
   ]
  },
  {
   "cell_type": "markdown",
   "id": "f3bafa79-8823-4bc6-9a2a-212b3d97606f",
   "metadata": {},
   "source": [
    "Inspect one of the files using PDAL"
   ]
  },
  {
   "cell_type": "code",
   "execution_count": 83,
   "id": "63cf99a6-c385-4d6a-9d76-e9aa4dc38a6b",
   "metadata": {},
   "outputs": [
    {
     "name": "stdout",
     "output_type": "stream",
     "text": [
      "{\n",
      "  \"file_size\": 14947473,\n",
      "  \"filename\": \"tmp/CL2_BN24_2020_1000_4527.laz\",\n",
      "  \"now\": \"2021-09-22T20:44:49-0500\",\n",
      "  \"pdal_version\": \"2.3.0 (git-version: 0800a2)\",\n",
      "  \"reader\": \"readers.las\",\n",
      "  \"stats\":\n",
      "  {\n",
      "    \"bbox\":\n",
      "    {\n",
      "      \"EPSG:4326\":\n",
      "      {\n",
      "        \"bbox\":\n",
      "        {\n",
      "          \"maxx\": 172.7268292,\n",
      "          \"maxy\": -40.80979276,\n",
      "          \"maxz\": 215.4225721,\n",
      "          \"minx\": 172.7211112,\n",
      "          \"miny\": -40.81629235,\n",
      "          \"minz\": 67.11381431\n",
      "        },\n",
      "        \"boundary\": { \"type\": \"Polygon\", \"coordinates\": [ [ [ 172.721111152471678, -40.816278733288371, 67.14097855227844 ], [ 172.721138310131067, -40.809792757220528, 67.113814310393153 ], [ 172.726829184186613, -40.809806370905136, 215.397103739775559 ], [ 172.726802580730578, -40.816292350068267, 215.422572079407615 ], [ 172.721111152471678, -40.816278733288371, 67.14097855227844 ] ] ] }\n",
      "      },\n",
      "      \"native\":\n",
      "      {\n",
      "        \"bbox\":\n",
      "        {\n",
      "          \"maxx\": 1576959.99,\n",
      "          \"maxy\": 5482319.99,\n",
      "          \"maxz\": 196.265,\n",
      "          \"minx\": 1576480,\n",
      "          \"miny\": 5481600,\n",
      "          \"minz\": 47.938\n",
      "        },\n",
      "        \"boundary\": { \"type\": \"Polygon\", \"coordinates\": [ [ [ 1576480.0, 5481600.0, 47.938 ], [ 1576480.0, 5482319.990000000223517, 47.938 ], [ 1576959.99, 5482319.990000000223517, 196.265 ], [ 1576959.99, 5481600.0, 196.265 ], [ 1576480.0, 5481600.0, 47.938 ] ] ] }\n",
      "      }\n",
      "    },\n",
      "    \"statistic\":\n",
      "    [\n",
      "      {\n",
      "        \"average\": 1576717.649,\n",
      "        \"count\": 4112075,\n",
      "        \"maximum\": 1576959.99,\n",
      "        \"minimum\": 1576480,\n",
      "        \"name\": \"X\",\n",
      "        \"position\": 0,\n",
      "        \"stddev\": 148.2415816,\n",
      "        \"variance\": 21975.5665\n",
      "      },\n",
      "      {\n",
      "        \"average\": 5481937.746,\n",
      "        \"count\": 4112075,\n",
      "        \"maximum\": 5482319.99,\n",
      "        \"minimum\": 5481600,\n",
      "        \"name\": \"Y\",\n",
      "        \"position\": 1,\n",
      "        \"stddev\": 206.5856103,\n",
      "        \"variance\": 42677.61437\n",
      "      },\n",
      "      {\n",
      "        \"average\": 105.302078,\n",
      "        \"count\": 4112075,\n",
      "        \"maximum\": 196.265,\n",
      "        \"minimum\": 47.938,\n",
      "        \"name\": \"Z\",\n",
      "        \"position\": 2,\n",
      "        \"stddev\": 25.89172671,\n",
      "        \"variance\": 670.3815118\n",
      "      },\n",
      "      {\n",
      "        \"average\": 1881.067889,\n",
      "        \"count\": 4112075,\n",
      "        \"maximum\": 7152,\n",
      "        \"minimum\": 32,\n",
      "        \"name\": \"Intensity\",\n",
      "        \"position\": 3,\n",
      "        \"stddev\": 1491.824143,\n",
      "        \"variance\": 2225539.273\n",
      "      },\n",
      "      {\n",
      "        \"average\": 1.265748071,\n",
      "        \"count\": 4112075,\n",
      "        \"maximum\": 5,\n",
      "        \"minimum\": 1,\n",
      "        \"name\": \"ReturnNumber\",\n",
      "        \"position\": 4,\n",
      "        \"stddev\": 0.514790784,\n",
      "        \"variance\": 0.2650095513\n",
      "      },\n",
      "      {\n",
      "        \"average\": 1.531397895,\n",
      "        \"count\": 4112075,\n",
      "        \"maximum\": 5,\n",
      "        \"minimum\": 1,\n",
      "        \"name\": \"NumberOfReturns\",\n",
      "        \"position\": 5,\n",
      "        \"stddev\": 0.6772126536,\n",
      "        \"variance\": 0.4586169782\n",
      "      },\n",
      "      {\n",
      "        \"average\": 0.4979118815,\n",
      "        \"count\": 4112075,\n",
      "        \"maximum\": 1,\n",
      "        \"minimum\": 0,\n",
      "        \"name\": \"ScanDirectionFlag\",\n",
      "        \"position\": 6,\n",
      "        \"stddev\": 0.4999957005,\n",
      "        \"variance\": 0.2499957006\n",
      "      },\n",
      "      {\n",
      "        \"average\": 0.001180669127,\n",
      "        \"count\": 4112075,\n",
      "        \"maximum\": 1,\n",
      "        \"minimum\": 0,\n",
      "        \"name\": \"EdgeOfFlightLine\",\n",
      "        \"position\": 7,\n",
      "        \"stddev\": 0.03434057999,\n",
      "        \"variance\": 0.001179275434\n",
      "      },\n",
      "      {\n",
      "        \"average\": 2.803416766,\n",
      "        \"count\": 4112075,\n",
      "        \"maximum\": 18,\n",
      "        \"minimum\": 1,\n",
      "        \"name\": \"Classification\",\n",
      "        \"position\": 8,\n",
      "        \"stddev\": 1.34279662,\n",
      "        \"variance\": 1.803102764\n",
      "      },\n",
      "      {\n",
      "        \"average\": 2.906520826,\n",
      "        \"count\": 4112075,\n",
      "        \"maximum\": 18,\n",
      "        \"minimum\": -18,\n",
      "        \"name\": \"ScanAngleRank\",\n",
      "        \"position\": 9,\n",
      "        \"stddev\": 9.668050325,\n",
      "        \"variance\": 93.47119709\n",
      "      },\n",
      "      {\n",
      "        \"average\": 0,\n",
      "        \"count\": 4112075,\n",
      "        \"maximum\": 0,\n",
      "        \"minimum\": 0,\n",
      "        \"name\": \"UserData\",\n",
      "        \"position\": 10,\n",
      "        \"stddev\": 0,\n",
      "        \"variance\": 0\n",
      "      },\n",
      "      {\n",
      "        \"average\": 1151.77498,\n",
      "        \"count\": 4112075,\n",
      "        \"maximum\": 1203,\n",
      "        \"minimum\": 1116,\n",
      "        \"name\": \"PointSourceId\",\n",
      "        \"position\": 11,\n",
      "        \"stddev\": 41.77565573,\n",
      "        \"variance\": 1745.205412\n",
      "      },\n",
      "      {\n",
      "        \"average\": 275884820.3,\n",
      "        \"count\": 4112075,\n",
      "        \"maximum\": 281219143.6,\n",
      "        \"minimum\": 272242315.4,\n",
      "        \"name\": \"GpsTime\",\n",
      "        \"position\": 12,\n",
      "        \"stddev\": 4406673.323,\n",
      "        \"variance\": 1.941876978e+13\n",
      "      },\n",
      "      {\n",
      "        \"average\": 0,\n",
      "        \"count\": 4112075,\n",
      "        \"maximum\": 0,\n",
      "        \"minimum\": 0,\n",
      "        \"name\": \"ScanChannel\",\n",
      "        \"position\": 13,\n",
      "        \"stddev\": 0,\n",
      "        \"variance\": 0\n",
      "      },\n",
      "      {\n",
      "        \"average\": 0.8676981816,\n",
      "        \"count\": 4112075,\n",
      "        \"maximum\": 4,\n",
      "        \"minimum\": 0,\n",
      "        \"name\": \"ClassFlags\",\n",
      "        \"position\": 14,\n",
      "        \"stddev\": 1.648603425,\n",
      "        \"variance\": 2.717893253\n",
      "      }\n",
      "    ]\n",
      "  }\n",
      "}\n"
     ]
    }
   ],
   "source": [
    "!pdal info tmp/CL2_BN24_2020_1000_4527.laz"
   ]
  },
  {
   "cell_type": "markdown",
   "id": "c526e1a1-097a-4c05-b5c9-0023a520b638",
   "metadata": {},
   "source": [
    "First create the empty array schema"
   ]
  },
  {
   "cell_type": "code",
   "execution_count": 100,
   "id": "d1118daf-d832-4427-bf2b-aa605d287d97",
   "metadata": {},
   "outputs": [],
   "source": [
    "parallel_array = \"arrays/parallel_lidar\"\n",
    "\n",
    "try:\n",
    "    shutil.rmtree(array_name)\n",
    "except:\n",
    "    pass\n",
    "\n",
    "bbox = {\n",
    "    \"maxx\": 1577440,\n",
    "    \"maxy\": 5482320,\n",
    "    \"maxz\": 857,\n",
    "    \"minx\": 1574559,\n",
    "    \"miny\": 5481599,\n",
    "    \"minz\": -103\n",
    "}       \n",
    "        \n",
    "zstd_compression = tiledb.FilterList([tiledb.ZstdFilter(level=7)])\n",
    "bzip2_compression = tiledb.FilterList([tiledb.Bzip2Filter(level=5)])\n",
    "gzip_compression = tiledb.FilterList([tiledb.Bzip2Filter(level=9)])\n",
    "\n",
    "dom = tiledb.Domain(\n",
    "    tiledb.Dim(name=\"X\", domain=(bbox['minx'], bbox['maxx']), dtype=np.float32, filters=zstd_compression),\n",
    "    tiledb.Dim(name=\"Y\", domain=(bbox['miny'], bbox['maxy']), dtype=np.float32, filters=zstd_compression),\n",
    "    tiledb.Dim(name='Z', domain=(bbox['minz'], bbox['maxz']), dtype=np.float32, filters=zstd_compression)\n",
    ")\n",
    "\n",
    "attrs=(\n",
    "        tiledb.Attr(name='Intensity', filters=bzip2_compression, dtype=np.uint16),\n",
    "        tiledb.Attr(name='ReturnNumber', filters=zstd_compression, dtype=np.uint8),\n",
    "        tiledb.Attr(name='NumberOfReturns', filters=zstd_compression, dtype=np.uint8),\n",
    "        tiledb.Attr(name='ScanDirectionFlag', filters=bzip2_compression, dtype=np.uint8),\n",
    "        tiledb.Attr(name='EdgeOfFlightLine', filters=bzip2_compression, dtype=np.uint8),\n",
    "        tiledb.Attr(name='Classification', filters=zstd_compression, dtype=np.uint8),\n",
    "        tiledb.Attr(name='ScanAngleRank', filters=bzip2_compression, dtype=np.float32),\n",
    "        tiledb.Attr(name='UserData', filters=gzip_compression, dtype=np.uint8),\n",
    "        tiledb.Attr(name='PointSourceId', filters=bzip2_compression, dtype=np.uint16),\n",
    "        tiledb.Attr(name='GpsTime', filters=zstd_compression, dtype=np.float64),\n",
    "        tiledb.Attr(name='ScanChannel', filters=bzip2_compression, dtype=np.uint8),\n",
    "        tiledb.Attr(name='ClassFlags', filters=gzip_compression, dtype=np.uint8),\n",
    ")\n",
    "\n",
    "tiledb_schema = tiledb.ArraySchema(\n",
    "    domain=dom,\n",
    "    sparse=True,\n",
    "    attrs=attrs,\n",
    "    tile_order='row-major',\n",
    "    capacity=100_000,\n",
    "    allows_duplicates=True,\n",
    "    coords_filters=zstd_compression,\n",
    "    cell_order=\"hilbert\"\n",
    ")\n",
    "\n",
    "tiledb.Array.create(array_name, tiledb_schema)"
   ]
  },
  {
   "cell_type": "markdown",
   "id": "25644dc9-67f0-492e-9b75-21d17aefa77b",
   "metadata": {},
   "source": [
    "Group the input files in tasks of 3 files"
   ]
  },
  {
   "cell_type": "code",
   "execution_count": 101,
   "id": "ce9508be-1865-4774-8aa1-601ee77d4f73",
   "metadata": {},
   "outputs": [
    {
     "name": "stdout",
     "output_type": "stream",
     "text": [
      "[['tmp/CL2_BN24_2020_1000_4527.laz'], ['tmp/CL2_BN24_2020_1000_4525.laz'], ['tmp/CL2_BN24_2020_1000_4523.laz'], ['tmp/CL2_BN24_2020_1000_4528.laz'], ['tmp/CL2_BN24_2020_1000_4526.laz'], ['tmp/CL2_BN24_2020_1000_4524.laz']]\n"
     ]
    }
   ],
   "source": [
    "def batch(iterable, n=1):\n",
    "    l = len(iterable)\n",
    "    for ndx in range(0, l, n):\n",
    "        yield iterable[ndx:min(ndx + n, l)]\n",
    "\n",
    "tasks = list(batch(inputs, 1))       \n",
    "        \n",
    "print(tasks)"
   ]
  },
  {
   "cell_type": "code",
   "execution_count": 102,
   "id": "fecfb171-68a1-4a3e-864d-52178d9d51c8",
   "metadata": {},
   "outputs": [
    {
     "name": "stderr",
     "output_type": "stream",
     "text": [
      "PDAL: [TileDB::Dimension] Error: Coordinate 0.000292969 is out of domain bounds [5.4816e+06, 5.48232e+06] on dimension 'Y'\n",
      "\n",
      "PDAL: [TileDB::Dimension] Error: Coordinate 1.66058e+38 is out of domain bounds [-103, 857] on dimension 'Z'\n",
      "\n",
      "PDAL: [TileDB::Dimension] Error: Coordinate -2.40324e+36 is out of domain bounds [-103, 857] on dimension 'Z'\n",
      "\n",
      "PDAL: [TileDB::Dimension] Error: Coordinate 6.35275e-24 is out of domain bounds [5.4816e+06, 5.48232e+06] on dimension 'Y'\n",
      "\n",
      "PDAL: [TileDB::Dimension] Error: Coordinate 1.14881e+28 is out of domain bounds [1.57456e+06, 1.57744e+06] on dimension 'X'\n",
      "\n"
     ]
    },
    {
     "name": "stdout",
     "output_type": "stream",
     "text": [
      "CPU times: user 0 ns, sys: 173 ms, total: 173 ms\n",
      "Wall time: 1min 1s\n"
     ]
    },
    {
     "name": "stderr",
     "output_type": "stream",
     "text": [
      "PDAL: [TileDB::Dimension] Error: Coordinate -6.30823e+06 is out of domain bounds [-103, 857] on dimension 'Z'\n",
      "\n"
     ]
    }
   ],
   "source": [
    "%%time\n",
    "\n",
    "pipeline = \"\"\"\n",
    "[\n",
    "  %s,\n",
    "  {\n",
    "    \"type\": \"writers.tiledb\",\n",
    "    \"array_name\": \"%s\",\n",
    "    \"chunk_size\": 100000000,\n",
    "    \"append\": true\n",
    "  }\n",
    "]\n",
    "\"\"\"\n",
    "\n",
    "def ingest(id, files):\n",
    "    import subprocess\n",
    "    inputs = \"\\\"\" + \"\\\",\\\"\".join(files) + \"\\\"\"\n",
    "    task = pipeline % (inputs, parallel_array)\n",
    "    with open(f\"{id}.json\", \"w\") as f:\n",
    "        f.write(task)\n",
    "        \n",
    "    return subprocess.run([\"pdal\", \"pipeline\", \"-i\", f\"{id}.json\"])    \n",
    "    \n",
    "pool = mp.Pool(mp.cpu_count())\n",
    "results = [pool.apply(ingest, args=(i, t,)) for i,t in enumerate(tasks)]"
   ]
  },
  {
   "cell_type": "code",
   "execution_count": null,
   "id": "ca2bccd7-64e4-4b2a-9d9f-2acbdbff5592",
   "metadata": {},
   "outputs": [],
   "source": []
  }
 ],
 "metadata": {
  "kernelspec": {
   "display_name": "Python 3 (ipykernel)",
   "language": "python",
   "name": "python3"
  },
  "language_info": {
   "codemirror_mode": {
    "name": "ipython",
    "version": 3
   },
   "file_extension": ".py",
   "mimetype": "text/x-python",
   "name": "python",
   "nbconvert_exporter": "python",
   "pygments_lexer": "ipython3",
   "version": "3.9.7"
  }
 },
 "nbformat": 4,
 "nbformat_minor": 5
}
