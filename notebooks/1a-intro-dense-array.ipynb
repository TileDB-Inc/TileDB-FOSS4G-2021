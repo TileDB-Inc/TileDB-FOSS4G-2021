{
 "cells": [
  {
   "cell_type": "markdown",
   "source": [
    "# Introduction to Dense TileDB Arrays\n",
    "\n",
    "## About this tutorial\n",
    "\n",
    "This is a simple example into creating, reading, and writing dense TileDB arrays.\n",
    "\n",
    "## Resources\n",
    "\n",
    "* [TileDB Embedded Docs: API Usage](https://docs.tiledb.com/main/solutions/tiledb-embedded/api-usage)\n",
    "* [TileDB-Py API Docs](https://tiledb-inc-tiledb.readthedocs-hosted.com/projects/tiledb-py/en/stable/python-api.html#)\n",
    "* [TileDB-Py Examples](https://github.com/TileDB-Inc/TileDB-Py/tree/dev/examples)"
   ],
   "metadata": {}
  },
  {
   "cell_type": "code",
   "execution_count": 1,
   "source": [
    "import tiledb\n",
    "import numpy as np\n",
    "\n",
    "dense_array_uri = \"arrays/dense\""
   ],
   "outputs": [],
   "metadata": {}
  },
  {
   "cell_type": "code",
   "execution_count": 2,
   "source": [
    "import shutil\n",
    "\n",
    "# clean up any previous runs\n",
    "try:\n",
    "    shutil.rmtree(dense_array_uri)\n",
    "except:\n",
    "    pass"
   ],
   "outputs": [],
   "metadata": {}
  },
  {
   "cell_type": "markdown",
   "source": [
    "## Dense arrays\n",
    "\n",
    "A dense TileDB array stores data in every cell of the arrays. Let's suppose we have some integer data and some floating-point data defined on 4-by-4 matrices."
   ],
   "metadata": {}
  },
  {
   "cell_type": "code",
   "execution_count": 3,
   "source": [
    "data_a = np.array(\n",
    "    (\n",
    "        [1, 2, 3, 4],\n",
    "        [5, 6, 7, 8],\n",
    "        [9, 10, 11, 12],\n",
    "        [13, 14, 15, 16]\n",
    "    )\n",
    ")\n",
    "data_b = np.random.random_sample(16).reshape(4, 4)\n",
    "data_b"
   ],
   "outputs": [
    {
     "output_type": "execute_result",
     "data": {
      "text/plain": [
       "array([[0.52037498, 0.0566791 , 0.85427941, 0.97244928],\n",
       "       [0.01249442, 0.0593756 , 0.39000132, 0.21699454],\n",
       "       [0.92515826, 0.44584226, 0.50435509, 0.84017679],\n",
       "       [0.18086935, 0.45255558, 0.74427037, 0.89040362]])"
      ]
     },
     "metadata": {},
     "execution_count": 3
    }
   ],
   "metadata": {}
  },
  {
   "cell_type": "markdown",
   "source": [
    "To write this data to a dense array, first create the [Schema](https://tiledb-inc-tiledb-py.readthedocs-hosted.com/en/stable/python-api.html#array-schema) with the [Domain](https://tiledb-inc-tiledb-py.readthedocs-hosted.com/en/stable/python-api.html#domain), containing the [Dimensions](https://tiledb-inc-tiledb-py.readthedocs-hosted.com/en/stable/python-api.html#dimension), and [Attributes](https://tiledb-inc-tiledb-py.readthedocs-hosted.com/en/stable/python-api.html#tiledb.Attr) that define the shape, size and data type of the dense array:"
   ],
   "metadata": {}
  },
  {
   "cell_type": "code",
   "execution_count": 4,
   "source": [
    "rows = tiledb.Dim(name=\"rows\", domain=(1, 4), tile=4, dtype=np.int32)\n",
    "cols = tiledb.Dim(name=\"cols\", domain=(1, 4), tile=4, dtype=np.int32)\n",
    "dom = tiledb.Domain(rows, cols)\n",
    "attr_a = tiledb.Attr(name=\"a\", dtype=np.int32, filters=tiledb.FilterList([tiledb.ZstdFilter(7)]))\n",
    "attr_b = tiledb.Attr(name=\"b\", dtype=np.float64, filters=tiledb.FilterList([tiledb.ZstdFilter(7)]), fill=np.nan)\n",
    "schema = tiledb.ArraySchema(domain=dom, attrs=[attr_a, attr_b])\n",
    "print(schema)"
   ],
   "outputs": [
    {
     "output_type": "stream",
     "name": "stdout",
     "text": [
      "ArraySchema(\n",
      "  domain=Domain(*[\n",
      "    Dim(name='rows', domain=(1, 4), tile='4', dtype='int32'),\n",
      "    Dim(name='cols', domain=(1, 4), tile='4', dtype='int32'),\n",
      "  ]),\n",
      "  attrs=[\n",
      "    Attr(name='a', dtype='int32', var=False, nullable=False, filters=FilterList([ZstdFilter(level=7), ])),\n",
      "    Attr(name='b', dtype='float64', var=False, nullable=False, filters=FilterList([ZstdFilter(level=7), ])),\n",
      "  ],\n",
      "  cell_order='row-major',\n",
      "  tile_order='row-major',\n",
      "  capacity=10000,\n",
      "  sparse=False,\n",
      "  coords_filters=FilterList([ZstdFilter(level=-1)]),\n",
      ")\n",
      "\n"
     ]
    }
   ],
   "metadata": {}
  },
  {
   "cell_type": "markdown",
   "source": [
    "Now, create the (empty) array on disk:"
   ],
   "metadata": {}
  },
  {
   "cell_type": "code",
   "execution_count": 5,
   "source": [
    "tiledb.Array.create(dense_array_uri, schema)"
   ],
   "outputs": [],
   "metadata": {}
  },
  {
   "cell_type": "markdown",
   "source": [
    "Let's see what this looks like on disk:"
   ],
   "metadata": {}
  },
  {
   "cell_type": "code",
   "execution_count": 6,
   "source": [
    "%ls $dense_array_uri"
   ],
   "outputs": [
    {
     "output_type": "stream",
     "name": "stdout",
     "text": [
      "__array_schema.tdb  __lock.tdb  \u001b[0m\u001b[01;34m__meta\u001b[0m/\n"
     ]
    }
   ],
   "metadata": {}
  },
  {
   "cell_type": "markdown",
   "source": [
    "What happens when we try reading the values now before anything was written?  We [open](https://tiledb-inc-tiledb.readthedocs-hosted.com/projects/tiledb-py/en/stable/python-api.html?highlight=uri#tiledb.open), and we print the [non-emtpy domain](https://tiledb-inc-tiledb.readthedocs-hosted.com/projects/tiledb-py/en/stable/python-api.html#tiledb.libtiledb.Array.nonempty_domain) and data in the array."
   ],
   "metadata": {}
  },
  {
   "cell_type": "code",
   "execution_count": 7,
   "source": [
    "with tiledb.open(dense_array_uri, mode=\"r\") as array:\n",
    "    print(f\"Non-empty domain: {array.nonempty_domain()}\")\n",
    "    data = array[:, :]\n",
    "for name, values in data.items():\n",
    "    print(f\"{name}: \\n{values}\")"
   ],
   "outputs": [
    {
     "output_type": "stream",
     "name": "stdout",
     "text": [
      "Non-empty domain: None\n",
      "a: \n",
      "[[-2147483648 -2147483648 -2147483648 -2147483648]\n",
      " [-2147483648 -2147483648 -2147483648 -2147483648]\n",
      " [-2147483648 -2147483648 -2147483648 -2147483648]\n",
      " [-2147483648 -2147483648 -2147483648 -2147483648]]\n",
      "b: \n",
      "[[nan nan nan nan]\n",
      " [nan nan nan nan]\n",
      " [nan nan nan nan]\n",
      " [nan nan nan nan]]\n"
     ]
    }
   ],
   "metadata": {}
  },
  {
   "cell_type": "markdown",
   "source": [
    "Now we open and write the data to the array:"
   ],
   "metadata": {}
  },
  {
   "cell_type": "code",
   "execution_count": 8,
   "source": [
    "with tiledb.open(dense_array_uri, mode=\"w\") as array:\n",
    "    array[:] = {\"a\": data_a, \"b\": data_b}\n"
   ],
   "outputs": [],
   "metadata": {}
  },
  {
   "cell_type": "markdown",
   "source": [
    "Let's take another look at the array on disk:"
   ],
   "metadata": {}
  },
  {
   "cell_type": "code",
   "execution_count": 9,
   "source": [
    "%ls $dense_array_uri"
   ],
   "outputs": [
    {
     "output_type": "stream",
     "name": "stdout",
     "text": [
      "\u001b[0m\u001b[01;34m__1632770590808_1632770590808_f510a0caad8f4ff1b4f5f0c5ccfe6312_9\u001b[0m/    __lock.tdb\n",
      "__1632770590808_1632770590808_f510a0caad8f4ff1b4f5f0c5ccfe6312_9.ok  \u001b[01;34m__meta\u001b[0m/\n",
      "__array_schema.tdb\n"
     ]
    }
   ],
   "metadata": {}
  },
  {
   "cell_type": "markdown",
   "source": [
    "Now you can try reading the data again:"
   ],
   "metadata": {}
  },
  {
   "cell_type": "code",
   "execution_count": 10,
   "source": [
    "with tiledb.open(dense_array_uri, mode=\"r\") as array:\n",
    "    print(f\"Non-empty domain: {array.nonempty_domain()}\")\n",
    "    data = array[:, :]\n",
    "for name, values in data.items():\n",
    "    print(f\"{name}: \\n{values}\")"
   ],
   "outputs": [
    {
     "output_type": "stream",
     "name": "stdout",
     "text": [
      "Non-empty domain: ((array(1, dtype=int32), array(4, dtype=int32)), (array(1, dtype=int32), array(4, dtype=int32)))\n",
      "a: \n",
      "[[ 1  2  3  4]\n",
      " [ 5  6  7  8]\n",
      " [ 9 10 11 12]\n",
      " [13 14 15 16]]\n",
      "b: \n",
      "[[0.52037498 0.0566791  0.85427941 0.97244928]\n",
      " [0.01249442 0.0593756  0.39000132 0.21699454]\n",
      " [0.92515826 0.44584226 0.50435509 0.84017679]\n",
      " [0.18086935 0.45255558 0.74427037 0.89040362]]\n"
     ]
    }
   ],
   "metadata": {}
  },
  {
   "cell_type": "markdown",
   "source": [
    "We can also read subsets of an array. The [multi_index](https://tiledb-inc-tiledb.readthedocs-hosted.com/projects/tiledb-py/en/stable/python-api.html#tiledb.libtiledb.Array.multi_index) function allows querying with values, slices, or lists of values. For instance, we can read the values at rows 1-3 only for columns 1 and 4, and print the results:"
   ],
   "metadata": {}
  },
  {
   "cell_type": "code",
   "execution_count": 11,
   "source": [
    "with tiledb.open(dense_array_uri, mode=\"r\") as array:\n",
    "    data = array.multi_index[1:3, [1,3]] # returns a dictionary of values\n",
    "    for name, values in data.items():\n",
    "        print(f\"{name}: \\n{values}\")"
   ],
   "outputs": [
    {
     "output_type": "stream",
     "name": "stdout",
     "text": [
      "a: \n",
      "[[ 1  3]\n",
      " [ 5  7]\n",
      " [ 9 11]]\n",
      "b: \n",
      "[[0.52037498 0.85427941]\n",
      " [0.01249442 0.39000132]\n",
      " [0.92515826 0.50435509]]\n"
     ]
    }
   ],
   "metadata": {}
  },
  {
   "cell_type": "markdown",
   "source": [
    "Read the values of the array just at row=0 and 3, and col=1:"
   ],
   "metadata": {}
  },
  {
   "cell_type": "code",
   "execution_count": null,
   "source": [],
   "outputs": [],
   "metadata": {}
  },
  {
   "cell_type": "markdown",
   "source": [
    "We can also write to subsets of an array:"
   ],
   "metadata": {}
  },
  {
   "cell_type": "code",
   "execution_count": 12,
   "source": [
    "with tiledb.open(dense_array_uri, mode=\"w\") as array:\n",
    "    array[1, 1] = {\"a\": np.array([-1]), \"b\": np.array([0.0])}"
   ],
   "outputs": [],
   "metadata": {}
  },
  {
   "cell_type": "markdown",
   "source": [
    "Or a subset of only 1 attribute in the array:"
   ],
   "metadata": {}
  },
  {
   "cell_type": "code",
   "execution_count": 13,
   "source": [
    "with tiledb.open(dense_array_uri, mode=\"w\", attr=\"b\") as array:\n",
    "    array[4, 4] = -1.0"
   ],
   "outputs": [],
   "metadata": {}
  },
  {
   "cell_type": "markdown",
   "source": [
    "Write new value for attribute `a` along row=1:"
   ],
   "metadata": {}
  },
  {
   "cell_type": "code",
   "execution_count": 14,
   "source": [
    "# Write new values for row 4 or the array"
   ],
   "outputs": [],
   "metadata": {}
  },
  {
   "cell_type": "markdown",
   "source": [
    "Simple key value pairs can be added as metadata:"
   ],
   "metadata": {}
  },
  {
   "cell_type": "code",
   "execution_count": 15,
   "source": [
    "with tiledb.open(dense_array_uri, mode=\"w\") as array:\n",
    "    array.meta[\"description\"] = \"a simple intro to dense arrays\"\n",
    "    array.meta[\"some value\"] = 1.0"
   ],
   "outputs": [],
   "metadata": {}
  },
  {
   "cell_type": "code",
   "execution_count": 16,
   "source": [
    "with tiledb.open(dense_array_uri) as array:\n",
    "    for key, value in array.meta.items():\n",
    "        print(f\"{key}: {(type(value))} {value}\")"
   ],
   "outputs": [
    {
     "output_type": "stream",
     "name": "stdout",
     "text": [
      "description: <class 'str'> a simple intro to dense arrays\n",
      "some value: <class 'float'> 1.0\n"
     ]
    }
   ],
   "metadata": {}
  },
  {
   "cell_type": "markdown",
   "source": [
    "Try reading and writing some additional data to TileDB:"
   ],
   "metadata": {}
  },
  {
   "cell_type": "code",
   "execution_count": null,
   "source": [],
   "outputs": [],
   "metadata": {}
  }
 ],
 "metadata": {
  "kernelspec": {
   "name": "python3",
   "display_name": "Python 3.9.1 64-bit ('vscode-3.9.1': pyenv)"
  },
  "language_info": {
   "codemirror_mode": {
    "name": "ipython",
    "version": 3
   },
   "file_extension": ".py",
   "mimetype": "text/x-python",
   "name": "python",
   "nbconvert_exporter": "python",
   "pygments_lexer": "ipython3",
   "version": "3.9.1"
  },
  "interpreter": {
   "hash": "3d092781159bdd0e591e89a2cbff26f3d6fd6b063fc2684654f3ec68ef25a91a"
  }
 },
 "nbformat": 4,
 "nbformat_minor": 5
}