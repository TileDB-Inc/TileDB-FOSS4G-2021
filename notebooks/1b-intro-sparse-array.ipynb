{
 "cells": [
  {
   "cell_type": "markdown",
   "source": [
    "# Introduction to Sparse TileDB Arrays\n",
    "\n",
    "## About this tutorial\n",
    "\n",
    "This is a simple example into creating, reading, and writing sparse TileDB arrays.\n",
    "\n",
    "## Resources\n",
    "\n",
    "* [TileDB Embedded Docs: API Usage](https://docs.tiledb.com/main/solutions/tiledb-embedded/api-usage)\n",
    "* [TileDB-Py API Docs](https://tiledb-inc-tiledb.readthedocs-hosted.com/projects/tiledb-py/en/stable/python-api.html#)\n",
    "* [TileDB-Py Examples](https://github.com/TileDB-Inc/TileDB-Py/tree/dev/examples)"
   ],
   "metadata": {}
  },
  {
   "cell_type": "code",
   "execution_count": 1,
   "source": [
    "import tiledb\n",
    "import numpy as np\n",
    "\n",
    "sparse_array_uri = \"arrays/sparse\""
   ],
   "outputs": [],
   "metadata": {}
  },
  {
   "cell_type": "code",
   "execution_count": 2,
   "source": [
    "import shutil\n",
    "\n",
    "# clean up any previous runs\n",
    "try:\n",
    "    shutil.rmtree(sparse_array_uri)\n",
    "except:\n",
    "    pass"
   ],
   "outputs": [],
   "metadata": {}
  },
  {
   "cell_type": "markdown",
   "source": [
    "<a id=\"sparse\"></a>\n",
    "## Sparse arrays"
   ],
   "metadata": {}
  },
  {
   "cell_type": "markdown",
   "source": [
    "TileDB sparse array does not require a value for every cell. Before writing any data, first define the schema of a sparse array. The only difference compared to the dense array is that you now will add `sparse=True` (the default is `False`):"
   ],
   "metadata": {}
  },
  {
   "cell_type": "code",
   "execution_count": 3,
   "source": [
    "rows = tiledb.Dim(name=\"rows\", domain=(1, 4), tile=4, dtype=np.int32)\n",
    "cols = tiledb.Dim(name=\"cols\", domain=(1, 4), tile=4, dtype=np.int32)\n",
    "\n",
    "dom = tiledb.Domain(rows,cols)\n",
    "attr_a = tiledb.Attr(name=\"a\", dtype=np.int32)\n",
    "attr_b = tiledb.Attr(name=\"b\", dtype=np.float64)\n",
    "\n",
    "schema = tiledb.ArraySchema(domain=dom, sparse=True, attrs=[attr_a, attr_b])\n",
    "print(schema)"
   ],
   "outputs": [
    {
     "output_type": "stream",
     "name": "stdout",
     "text": [
      "ArraySchema(\n",
      "  domain=Domain(*[\n",
      "    Dim(name='rows', domain=(1, 4), tile='4', dtype='int32'),\n",
      "    Dim(name='cols', domain=(1, 4), tile='4', dtype='int32'),\n",
      "  ]),\n",
      "  attrs=[\n",
      "    Attr(name='a', dtype='int32', var=False, nullable=False),\n",
      "    Attr(name='b', dtype='float64', var=False, nullable=False),\n",
      "  ],\n",
      "  cell_order='row-major',\n",
      "  tile_order='row-major',\n",
      "  capacity=10000,\n",
      "  sparse=True,\n",
      "  allows_duplicates=False,\n",
      "  coords_filters=FilterList([ZstdFilter(level=-1)]),\n",
      ")\n",
      "\n"
     ]
    }
   ],
   "metadata": {}
  },
  {
   "cell_type": "markdown",
   "source": [
    "The next step is to create the (empty) array on disk, and then open and write data to the sparse array. "
   ],
   "metadata": {}
  },
  {
   "cell_type": "code",
   "execution_count": 4,
   "source": [
    "tiledb.SparseArray.create(sparse_array_uri, schema)"
   ],
   "outputs": [],
   "metadata": {}
  },
  {
   "cell_type": "markdown",
   "source": [
    "Like in the dense case, we can try reading before any data is added:"
   ],
   "metadata": {}
  },
  {
   "cell_type": "code",
   "execution_count": 5,
   "source": [
    "with tiledb.open(sparse_array_uri, mode=\"r\") as array:\n",
    "    print(f\"Non-empty domain: {array.nonempty_domain()}\")\n",
    "    data = array[:, :]\n",
    "for name, values in data.items():\n",
    "    print(f\"{name}: {values}\")"
   ],
   "outputs": [
    {
     "output_type": "stream",
     "name": "stdout",
     "text": [
      "Non-empty domain: None\n",
      "a: []\n",
      "b: []\n",
      "rows: []\n",
      "cols: []\n"
     ]
    }
   ],
   "metadata": {}
  },
  {
   "cell_type": "markdown",
   "source": [
    "Let's write the 3 values from `data` to 3 cells in the array with the coordinates in `[I,J]`:"
   ],
   "metadata": {}
  },
  {
   "cell_type": "code",
   "execution_count": 6,
   "source": [
    "with tiledb.open(sparse_array_uri, mode=\"w\") as array:\n",
    "    I, J = [1, 2, 2], [1, 4, 3]\n",
    "    array[I, J] = {\"a\": np.array([1,2,3]), \"b\": np.array([-1.5, 0.0, 0.5])}"
   ],
   "outputs": [],
   "metadata": {}
  },
  {
   "cell_type": "markdown",
   "source": [
    "That is it, you have now also created a TileDB sparse array! \n",
    "\n",
    "Read all data from a sparse array in the exact same way as reading it from a dense array:"
   ],
   "metadata": {}
  },
  {
   "cell_type": "code",
   "execution_count": 7,
   "source": [
    "with tiledb.open(sparse_array_uri, mode=\"r\") as A:\n",
    "    data = A[:,:]\n",
    "for name, values in data.items():\n",
    "    print(f\"{name}: {values}\")"
   ],
   "outputs": [
    {
     "output_type": "stream",
     "name": "stdout",
     "text": [
      "a: [1 3 2]\n",
      "b: [-1.5  0.5  0. ]\n",
      "rows: [1 2 2]\n",
      "cols: [1 3 4]\n"
     ]
    }
   ],
   "metadata": {}
  },
  {
   "cell_type": "markdown",
   "source": [
    "Notice that this looks different than for the dense array, where `data` only contained the values for attributes. For the sparse arrays, data is returned in coordinate form: a separate array of each dimension and the attribute is provided in order:"
   ],
   "metadata": {}
  },
  {
   "cell_type": "code",
   "execution_count": 8,
   "source": [
    "print(\"Attribute 'a':\")\n",
    "for i, coord in enumerate(zip(data[\"rows\"], data[\"cols\"])):\n",
    "    print(f\"Cell ({coord[0]}, {coord[1]}) has data {data['a'][i]}\")\n",
    "print(\"\\nAttribute 'b':\")\n",
    "for i, coord in enumerate(zip(data[\"rows\"], data[\"cols\"])):\n",
    "    print(f\"Cell ({coord[0]}, {coord[1]}) has data {data['b'][i]}\")"
   ],
   "outputs": [
    {
     "output_type": "stream",
     "name": "stdout",
     "text": [
      "Attribute 'a':\n",
      "Cell (1, 1) has data 1\n",
      "Cell (2, 3) has data 3\n",
      "Cell (2, 4) has data 2\n",
      "\n",
      "Attribute 'b':\n",
      "Cell (1, 1) has data -1.5\n",
      "Cell (2, 3) has data 0.5\n",
      "Cell (2, 4) has data 0.0\n"
     ]
    }
   ],
   "metadata": {}
  },
  {
   "cell_type": "markdown",
   "source": [
    "Like with the dense array we can return slices of data:"
   ],
   "metadata": {}
  },
  {
   "cell_type": "code",
   "execution_count": 9,
   "source": [
    "with tiledb.open(sparse_array_uri, mode=\"r\") as array:\n",
    "    data = array.multi_index[1:3, 1:3]\n",
    "    for name, values in data.items():\n",
    "        print(f\"{name}: {values}\")"
   ],
   "outputs": [
    {
     "output_type": "stream",
     "name": "stdout",
     "text": [
      "rows: [1 2]\n",
      "cols: [1 3]\n",
      "a: [1 3]\n",
      "b: [-1.5  0.5]\n"
     ]
    }
   ],
   "metadata": {}
  },
  {
   "cell_type": "markdown",
   "source": [
    "Try different queries on the sparse array:"
   ],
   "metadata": {}
  },
  {
   "cell_type": "code",
   "execution_count": null,
   "source": [],
   "outputs": [],
   "metadata": {}
  },
  {
   "cell_type": "markdown",
   "source": [
    "In this array, we did not allow duplicates. This means if we add a new value to a cell, it will replace that value, just like in the dense case. Try writine a new value for `a` and `b` at cell (2,3), then open the array in read mode and view the output."
   ],
   "metadata": {}
  },
  {
   "cell_type": "code",
   "execution_count": null,
   "source": [],
   "outputs": [],
   "metadata": {}
  }
 ],
 "metadata": {
  "kernelspec": {
   "name": "python3",
   "display_name": "Python 3.9.1 64-bit ('vscode-3.9.1': pyenv)"
  },
  "language_info": {
   "codemirror_mode": {
    "name": "ipython",
    "version": 3
   },
   "file_extension": ".py",
   "mimetype": "text/x-python",
   "name": "python",
   "nbconvert_exporter": "python",
   "pygments_lexer": "ipython3",
   "version": "3.9.1"
  },
  "interpreter": {
   "hash": "3d092781159bdd0e591e89a2cbff26f3d6fd6b063fc2684654f3ec68ef25a91a"
  }
 },
 "nbformat": 4,
 "nbformat_minor": 5
}