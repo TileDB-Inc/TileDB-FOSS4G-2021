{
 "cells": [
  {
   "cell_type": "markdown",
   "id": "f077d0b4-ac4a-4f19-aca2-2e0708079593",
   "metadata": {},
   "source": [
    "# Quickstart sparse\n",
    "\n",
    "We will import the modules we need"
   ]
  },
  {
   "cell_type": "code",
   "execution_count": 15,
   "id": "13386414-c8a1-40bd-bb28-4dba162b866d",
   "metadata": {},
   "outputs": [],
   "source": [
    "import numpy as np\n",
    "import shutil\n",
    "import sys\n",
    "import tiledb"
   ]
  },
  {
   "cell_type": "code",
   "execution_count": 16,
   "id": "43c5fb46-e432-4b7b-b1dc-21eac6cc4e1b",
   "metadata": {},
   "outputs": [],
   "source": [
    "array_name = \"arrays/quickstart_sparse\""
   ]
  },
  {
   "cell_type": "code",
   "execution_count": 17,
   "id": "7020283b-913e-4497-a9f7-75cf34ca40d3",
   "metadata": {},
   "outputs": [],
   "source": [
    "def create_array():\n",
    "    # The array will be 4x4 with dimensions \"rows\" and \"cols\", with domain [1,4].\n",
    "    dom = tiledb.Domain(\n",
    "        tiledb.Dim(name=\"rows\", domain=(1, 4), tile=4, dtype=np.int32),\n",
    "        tiledb.Dim(name=\"cols\", domain=(1, 4), tile=4, dtype=np.int32),\n",
    "    )\n",
    "\n",
    "    # The array will be sparse with a single attribute \"a\" so each (i,j) cell can store an integer.\n",
    "    schema = tiledb.ArraySchema(\n",
    "        domain=dom, sparse=True, attrs=[tiledb.Attr(name=\"a\", dtype=np.int32)]\n",
    "    )\n",
    "\n",
    "    # Create the (empty) array on disk.\n",
    "    tiledb.SparseArray.create(array_name, schema)\n",
    "\n",
    "\n",
    "def write_array():\n",
    "    # Open the array and write to it.\n",
    "    with tiledb.SparseArray(array_name, mode=\"w\") as A:\n",
    "        # Write some simple data to cells (1, 1), (2, 4) and (2, 3).\n",
    "        I, J = [1, 2, 2], [1, 4, 3]\n",
    "        data = np.array(([1, 2, 3]))\n",
    "        A[I, J] = data\n",
    "\n",
    "\n",
    "def read_array():\n",
    "    # Open the array and read from it.\n",
    "    with tiledb.SparseArray(array_name, mode=\"r\") as A:\n",
    "        # Slice only rows 1, 2 and cols 2, 3, 4.\n",
    "        data = A[1:3, 2:5]\n",
    "        a_vals = data[\"a\"]\n",
    "        for i, coord in enumerate(zip(data[\"rows\"], data[\"cols\"])):\n",
    "            print(\"Cell (%d, %d) has data %d\" % (coord[0], coord[1], a_vals[i]))"
   ]
  },
  {
   "cell_type": "markdown",
   "id": "ae91b21d-4b00-4718-919c-d962caf0cba5",
   "metadata": {},
   "source": [
    "Create the arrays and query the data"
   ]
  },
  {
   "cell_type": "code",
   "execution_count": 18,
   "id": "2a3151f6-c0f1-45e4-9af1-5a06eb7dbebb",
   "metadata": {},
   "outputs": [
    {
     "name": "stdout",
     "output_type": "stream",
     "text": [
      "Cell (2, 3) has data 3\n",
      "Cell (2, 4) has data 2\n"
     ]
    }
   ],
   "source": [
    "# cleanup\n",
    "try:\n",
    "    shutil.rmtree(\"arrays/quickstart_sparse\")\n",
    "except:\n",
    "    pass\n",
    "\n",
    "create_array()\n",
    "write_array()\n",
    "read_array()"
   ]
  },
  {
   "cell_type": "markdown",
   "id": "8301fc02-2460-48a5-8536-5d63a93cc751",
   "metadata": {},
   "source": [
    "Explore the array structure"
   ]
  },
  {
   "cell_type": "code",
   "execution_count": null,
   "id": "d8c915da-31e3-452a-9fa0-1a9fc462bd7c",
   "metadata": {},
   "outputs": [],
   "source": []
  }
 ],
 "metadata": {
  "kernelspec": {
   "display_name": "Python 3 (ipykernel)",
   "language": "python",
   "name": "python3"
  },
  "language_info": {
   "codemirror_mode": {
    "name": "ipython",
    "version": 3
   },
   "file_extension": ".py",
   "mimetype": "text/x-python",
   "name": "python",
   "nbconvert_exporter": "python",
   "pygments_lexer": "ipython3",
   "version": "3.9.7"
  }
 },
 "nbformat": 4,
 "nbformat_minor": 5
}
