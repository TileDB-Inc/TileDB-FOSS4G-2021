{
 "cells": [
  {
   "cell_type": "markdown",
   "id": "d7e72bd6-a2fd-440f-bceb-02d54ece9b09",
   "metadata": {},
   "source": [
    "# Introduction to TileDB Arrays\n",
    "\n",
    "* This notebook is part 1 of the FOSS4G workshop \"Universal data management for all geospatial data in TileDB\" \n",
    "* Find the notebook on [GitHub]() or [TileDB Cloud]()\n",
    "\n",
    "## Outline\n",
    "\n",
    "* [A simple table](#table)\n",
    "    * [Create a table](#table1)\n",
    "    * [Convert the table to a TileDB array](#table2)\n",
    "    * [Explore the TileDB array](#table3)\n",
    "* [Dense arrays](#dense)\n",
    "    * [Dense array schema](#dense1)\n",
    "* Sparse arrays\n",
    "* TileDB Cloud    "
   ]
  },
  {
   "cell_type": "code",
   "execution_count": 1,
   "id": "8c1e2d95-7b4c-465e-bd86-91d4c1735a0f",
   "metadata": {},
   "outputs": [],
   "source": [
    "import numpy as np\n",
    "import pandas as pd\n",
    "\n",
    "import tiledb"
   ]
  },
  {
   "cell_type": "markdown",
   "id": "f5a38934-2e35-467b-ba83-23a1d427ff94",
   "metadata": {},
   "source": [
    "<a id=\"table\"></a>\n",
    "## A simple table\n",
    "\n",
    "<a id=\"table1\"></a>\n",
    "### Create a table \n",
    "\n",
    "> The [original dataset](https://simplemaps.com/data/world-cities) is cleaned up in [this notebook]()"
   ]
  },
  {
   "cell_type": "code",
   "execution_count": 2,
   "id": "0ce29e6a-4f5a-4326-9d24-a55db19c0c56",
   "metadata": {},
   "outputs": [
    {
     "data": {
      "text/html": [
       "<div>\n",
       "<style scoped>\n",
       "    .dataframe tbody tr th:only-of-type {\n",
       "        vertical-align: middle;\n",
       "    }\n",
       "\n",
       "    .dataframe tbody tr th {\n",
       "        vertical-align: top;\n",
       "    }\n",
       "\n",
       "    .dataframe thead th {\n",
       "        text-align: right;\n",
       "    }\n",
       "</style>\n",
       "<table border=\"1\" class=\"dataframe\">\n",
       "  <thead>\n",
       "    <tr style=\"text-align: right;\">\n",
       "      <th></th>\n",
       "      <th>Unnamed: 0</th>\n",
       "      <th>city</th>\n",
       "      <th>lat</th>\n",
       "      <th>lon</th>\n",
       "      <th>country</th>\n",
       "      <th>iso3</th>\n",
       "      <th>population</th>\n",
       "    </tr>\n",
       "  </thead>\n",
       "  <tbody>\n",
       "    <tr>\n",
       "      <th>0</th>\n",
       "      <td>0</td>\n",
       "      <td>Tokyo</td>\n",
       "      <td>35.6897</td>\n",
       "      <td>139.6922</td>\n",
       "      <td>Japan</td>\n",
       "      <td>JPN</td>\n",
       "      <td>37977000.0</td>\n",
       "    </tr>\n",
       "    <tr>\n",
       "      <th>1</th>\n",
       "      <td>1</td>\n",
       "      <td>Jakarta</td>\n",
       "      <td>-6.2146</td>\n",
       "      <td>106.8451</td>\n",
       "      <td>Indonesia</td>\n",
       "      <td>IDN</td>\n",
       "      <td>34540000.0</td>\n",
       "    </tr>\n",
       "    <tr>\n",
       "      <th>2</th>\n",
       "      <td>4</td>\n",
       "      <td>Manila</td>\n",
       "      <td>14.5958</td>\n",
       "      <td>120.9772</td>\n",
       "      <td>Philippines</td>\n",
       "      <td>PHL</td>\n",
       "      <td>23088000.0</td>\n",
       "    </tr>\n",
       "    <tr>\n",
       "      <th>3</th>\n",
       "      <td>7</td>\n",
       "      <td>Seoul</td>\n",
       "      <td>37.5833</td>\n",
       "      <td>127.0000</td>\n",
       "      <td>Korea, South</td>\n",
       "      <td>KOR</td>\n",
       "      <td>21794000.0</td>\n",
       "    </tr>\n",
       "    <tr>\n",
       "      <th>4</th>\n",
       "      <td>8</td>\n",
       "      <td>Mexico City</td>\n",
       "      <td>19.4333</td>\n",
       "      <td>-99.1333</td>\n",
       "      <td>Mexico</td>\n",
       "      <td>MEX</td>\n",
       "      <td>20996000.0</td>\n",
       "    </tr>\n",
       "  </tbody>\n",
       "</table>\n",
       "</div>"
      ],
      "text/plain": [
       "   Unnamed: 0         city      lat       lon       country iso3  population\n",
       "0           0        Tokyo  35.6897  139.6922         Japan  JPN  37977000.0\n",
       "1           1      Jakarta  -6.2146  106.8451     Indonesia  IDN  34540000.0\n",
       "2           4       Manila  14.5958  120.9772   Philippines  PHL  23088000.0\n",
       "3           7        Seoul  37.5833  127.0000  Korea, South  KOR  21794000.0\n",
       "4           8  Mexico City  19.4333  -99.1333        Mexico  MEX  20996000.0"
      ]
     },
     "execution_count": 2,
     "metadata": {},
     "output_type": "execute_result"
    }
   ],
   "source": [
    "capitals = pd.read_csv(\"./data/capitals.csv\")\n",
    "capitals.head()"
   ]
  },
  {
   "cell_type": "markdown",
   "id": "0a4b266f-c843-46cb-a6de-8d595a8d6170",
   "metadata": {},
   "source": [
    "<a id=\"table2\"></a>\n",
    "### Convert the table to a TileDB array\n",
    "\n",
    "With [pandas](https://tiledb-inc-tiledb.readthedocs-hosted.com/projects/tiledb-py/en/stable/python-api.html#tiledb.from_pandas):"
   ]
  },
  {
   "cell_type": "code",
   "execution_count": 3,
   "id": "aed12f3e-599a-447d-8472-40a4d03fcf22",
   "metadata": {},
   "outputs": [],
   "source": [
    "uri = \"arrays/capitals1\"\n",
    "\n",
    "tiledb.from_pandas(uri, capitals)"
   ]
  },
  {
   "cell_type": "markdown",
   "id": "9d869733-324f-4f0e-9d19-59d22b94fcf9",
   "metadata": {},
   "source": [
    "Or directly [from the csv file](https://tiledb-inc-tiledb.readthedocs-hosted.com/projects/tiledb-py/en/stable/python-api.html#tiledb.from_csv):"
   ]
  },
  {
   "cell_type": "code",
   "execution_count": 4,
   "id": "1d6efda8-a434-444e-9396-1a2cdbbc9bc0",
   "metadata": {},
   "outputs": [],
   "source": [
    "uri = \"arrays/capitals2\"\n",
    "\n",
    "tiledb.from_csv(uri, \"data/capitals.csv\")"
   ]
  },
  {
   "cell_type": "markdown",
   "id": "739596e6-5b5e-4940-aae9-2b6dd754b7fd",
   "metadata": {},
   "source": [
    "That is all! You have created your first TileDB array! "
   ]
  },
  {
   "cell_type": "markdown",
   "id": "fdec9aef-54a3-4cd5-85b9-9949633e802b",
   "metadata": {},
   "source": [
    "<a id=\"table3\"></a>\n",
    "### Explore the TileDB array\n",
    "\n",
    "But, what do these arrays now look like? And how can you work with the data in them?\n",
    "\n",
    "> Find more info about the TileDB format specification [here](https://github.com/TileDB-Inc/TileDB/blob/dev/format_spec/FORMAT_SPEC.md) or in the [docs](https://docs.tiledb.com/main/basic-concepts/data-format)\n",
    "\n",
    "An array is stored in a directory. For `capitals1` this looks like: "
   ]
  },
  {
   "cell_type": "code",
   "execution_count": 5,
   "id": "c59c07d4-c8e0-4aad-a9c6-90b8abc09706",
   "metadata": {},
   "outputs": [
    {
     "name": "stdout",
     "output_type": "stream",
     "text": [
      "\u001b[34m__1626970989823_1626970989823_b9cf74a787674969adb4664bbc1034ef_8\u001b[m\u001b[m/\n",
      "__1626970989823_1626970989823_b9cf74a787674969adb4664bbc1034ef_8.ok\n",
      "__array_schema.tdb\n",
      "__lock.tdb\n",
      "\u001b[34m__meta\u001b[m\u001b[m/\n"
     ]
    }
   ],
   "source": [
    "%ls arrays/capitals1"
   ]
  },
  {
   "cell_type": "markdown",
   "id": "06b03d9e-3550-4cb9-b234-0ce05a302b18",
   "metadata": {},
   "source": [
    "Also have a look at the first folder **by updating the path in the below cell to the path on your system**:"
   ]
  },
  {
   "cell_type": "code",
   "execution_count": 8,
   "id": "b067e45d-126c-44d9-8faf-4c6f4dd68490",
   "metadata": {},
   "outputs": [
    {
     "name": "stdout",
     "output_type": "stream",
     "text": [
      "Unnamed%3A 0.tdb         country.tdb              lat.tdb\n",
      "__fragment_metadata.tdb  country_var.tdb          lon.tdb\n",
      "city.tdb                 iso3.tdb                 population.tdb\n",
      "city_var.tdb             iso3_var.tdb\n"
     ]
    }
   ],
   "source": [
    "%ls arrays/capitals1/__1626970989823_1626970989823_b9cf74a787674969adb4664bbc1034ef_8/"
   ]
  },
  {
   "cell_type": "markdown",
   "id": "677713b1-1812-41be-99df-437da9e31387",
   "metadata": {},
   "source": [
    "In the above you will recognise the column names from the table. **Etc......** "
   ]
  },
  {
   "cell_type": "markdown",
   "id": "41c0c459-c007-40f4-ac3a-d2d8e78b8683",
   "metadata": {},
   "source": [
    "An array is defined by it's schema. **Etc....**\n",
    "\n",
    "Load the schema:"
   ]
  },
  {
   "cell_type": "code",
   "execution_count": 6,
   "id": "017dd65d-9f37-4276-a4fd-769b61cc6fce",
   "metadata": {},
   "outputs": [
    {
     "name": "stdout",
     "output_type": "stream",
     "text": [
      "ArraySchema(\n",
      "  domain=Domain(*[\n",
      "    Dim(name='__tiledb_rows', domain=(0, 207), tile='207', dtype='uint64'),\n",
      "  ]),\n",
      "  attrs=[\n",
      "    Attr(name='Unnamed: 0', dtype='int64', var=False, nullable=False),\n",
      "    Attr(name='city', dtype='<U0', var=True, nullable=False),\n",
      "    Attr(name='lat', dtype='float64', var=False, nullable=False),\n",
      "    Attr(name='lon', dtype='float64', var=False, nullable=False),\n",
      "    Attr(name='country', dtype='<U0', var=True, nullable=False),\n",
      "    Attr(name='iso3', dtype='<U0', var=True, nullable=False),\n",
      "    Attr(name='population', dtype='float64', var=False, nullable=False),\n",
      "  ],\n",
      "  cell_order='row-major',\n",
      "  tile_order='row-major',\n",
      "  capacity=10000,\n",
      "  sparse=False,\n",
      "  coords_filters=FilterList([ZstdFilter(level=-1)]),\n",
      ")\n",
      "\n"
     ]
    }
   ],
   "source": [
    "uri = \"arrays/capitals1\"\n",
    "A = tiledb.open(uri)\n",
    "print(A.schema)"
   ]
  },
  {
   "cell_type": "markdown",
   "id": "78e6a780-a589-4825-8415-302e9ceeb270",
   "metadata": {},
   "source": [
    "Load all data:"
   ]
  },
  {
   "cell_type": "code",
   "execution_count": null,
   "id": "45de2c69-c0c1-4813-a91b-1280cf827b6f",
   "metadata": {},
   "outputs": [],
   "source": []
  },
  {
   "cell_type": "markdown",
   "id": "55f3cc71-dead-4dda-b1d5-aca14a835c64",
   "metadata": {},
   "source": [
    "Load a slice of the data:"
   ]
  },
  {
   "cell_type": "code",
   "execution_count": null,
   "id": "6a3ff350-3575-4b0d-bb45-ca8e28aaee49",
   "metadata": {},
   "outputs": [],
   "source": []
  },
  {
   "cell_type": "markdown",
   "id": "24b2e616-8c65-49b8-9e41-1ccf5ae80c81",
   "metadata": {},
   "source": [
    "Load filtered data, etc..."
   ]
  },
  {
   "cell_type": "code",
   "execution_count": null,
   "id": "fc7378b7-2f1b-4919-9f54-b892275a68df",
   "metadata": {},
   "outputs": [],
   "source": []
  },
  {
   "cell_type": "markdown",
   "id": "f4cd3b01-3e47-4d36-b277-8c418ac342d2",
   "metadata": {},
   "source": [
    "This first example is a sparse array. Let's now go into a little more detail on dense arrays.\n",
    "\n",
    "<a id=\"dense\"></a>\n",
    "## Dense arrays\n",
    "\n",
    "### Dense array schema"
   ]
  },
  {
   "cell_type": "code",
   "execution_count": null,
   "id": "43e974b5-ac4a-474e-bb78-fb00aa92af2d",
   "metadata": {},
   "outputs": [],
   "source": []
  },
  {
   "cell_type": "code",
   "execution_count": null,
   "id": "eeebfad5-782e-462e-b959-cf400b635708",
   "metadata": {},
   "outputs": [],
   "source": []
  },
  {
   "cell_type": "code",
   "execution_count": null,
   "id": "c12bc825-02bd-44ec-bc6b-5c89100763d9",
   "metadata": {},
   "outputs": [],
   "source": []
  }
 ],
 "metadata": {
  "kernelspec": {
   "display_name": "netcdf-dev",
   "language": "python",
   "name": "netcdf-dev"
  },
  "language_info": {
   "codemirror_mode": {
    "name": "ipython",
    "version": 3
   },
   "file_extension": ".py",
   "mimetype": "text/x-python",
   "name": "python",
   "nbconvert_exporter": "python",
   "pygments_lexer": "ipython3",
   "version": "3.7.10"
  }
 },
 "nbformat": 4,
 "nbformat_minor": 5
}
